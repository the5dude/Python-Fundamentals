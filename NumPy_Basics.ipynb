{
 "cells": [
  {
   "cell_type": "markdown",
   "id": "d7eed892",
   "metadata": {},
   "source": [
    "# NumPy\n",
    "\n",
    "## By Scott Parr"
   ]
  },
  {
   "cell_type": "markdown",
   "id": "056b9521",
   "metadata": {},
   "source": [
    "<a id=\"0\"></a> <br>\n",
    " # Contents  \n",
    " \n",
    " 1. [Variables](#1)\n",
    " 1. [NumPy vs Python Arrays](#2)\n",
    " 1. [Creating Arrays from Scratch](#3)\n",
    " 1. [Multidimensional Arrays](#4)\n",
    " 1. [ Indexing Arrays](#5)\n",
    " 1. [Slicing Arrays](#6)\n",
    " 1. [Multi-Dimensional Subarrays](#7)\n",
    " 1. [Subarrays as No-Copy Views](#8)\n",
    " 1. [Reshaping Arrays](#9)\n",
    " 1. [NumPy Aggregations](#10)\n",
    " 1. [Concatenating and Splitting Arrays](#11)\n",
    " 1. [UFuncs](#12)\n",
    " 1. [Fancy Indexing](#13)\n",
    " 1. [Sorting Arrays](#14)\n",
    " 1. [Dictionaries](#15)\n",
    " 1. [NumPy and Structured Arrays](#16)\n"
   ]
  },
  {
   "cell_type": "markdown",
   "id": "a5816787",
   "metadata": {},
   "source": [
    "[back to top](#Contents)\n",
    "\n",
    "<a id=\"1\"></a> \n",
    "# 1.  NumPy Basics\n",
    "\n",
    "The fundamental package for scientific computing with Python\n",
    "\n",
    "Numpy is a library built on top of Python\n",
    "\n",
    "It is also known as \"Numerical Python\"\n",
    "\n",
    "numpy.org/learn/\n",
    "\n",
    "### More than they appear\n",
    "\n",
    "python objects contain more info than initially appears\n",
    "\n",
    "for example...."
   ]
  },
  {
   "cell_type": "code",
   "execution_count": 6,
   "id": "bbc87f74",
   "metadata": {},
   "outputs": [],
   "source": [
    "import numpy as np"
   ]
  },
  {
   "cell_type": "code",
   "execution_count": 7,
   "id": "b86c60db",
   "metadata": {},
   "outputs": [
    {
     "name": "stdout",
     "output_type": "stream",
     "text": [
      "Help on int object:\n",
      "\n",
      "class int(object)\n",
      " |  int([x]) -> integer\n",
      " |  int(x, base=10) -> integer\n",
      " |  \n",
      " |  Convert a number or string to an integer, or return 0 if no arguments\n",
      " |  are given.  If x is a number, return x.__int__().  For floating point\n",
      " |  numbers, this truncates towards zero.\n",
      " |  \n",
      " |  If x is not a number or if base is given, then x must be a string,\n",
      " |  bytes, or bytearray instance representing an integer literal in the\n",
      " |  given base.  The literal can be preceded by '+' or '-' and be surrounded\n",
      " |  by whitespace.  The base defaults to 10.  Valid bases are 0 and 2-36.\n",
      " |  Base 0 means to interpret the base from the string as an integer literal.\n",
      " |  >>> int('0b100', base=0)\n",
      " |  4\n",
      " |  \n",
      " |  Built-in subclasses:\n",
      " |      bool\n",
      " |  \n",
      " |  Methods defined here:\n",
      " |  \n",
      " |  __abs__(self, /)\n",
      " |      abs(self)\n",
      " |  \n",
      " |  __add__(self, value, /)\n",
      " |      Return self+value.\n",
      " |  \n",
      " |  __and__(self, value, /)\n",
      " |      Return self&value.\n",
      " |  \n",
      " |  __bool__(self, /)\n",
      " |      True if self else False\n",
      " |  \n",
      " |  __ceil__(...)\n",
      " |      Ceiling of an Integral returns itself.\n",
      " |  \n",
      " |  __divmod__(self, value, /)\n",
      " |      Return divmod(self, value).\n",
      " |  \n",
      " |  __eq__(self, value, /)\n",
      " |      Return self==value.\n",
      " |  \n",
      " |  __float__(self, /)\n",
      " |      float(self)\n",
      " |  \n",
      " |  __floor__(...)\n",
      " |      Flooring an Integral returns itself.\n",
      " |  \n",
      " |  __floordiv__(self, value, /)\n",
      " |      Return self//value.\n",
      " |  \n",
      " |  __format__(self, format_spec, /)\n",
      " |      Default object formatter.\n",
      " |  \n",
      " |  __ge__(self, value, /)\n",
      " |      Return self>=value.\n",
      " |  \n",
      " |  __getattribute__(self, name, /)\n",
      " |      Return getattr(self, name).\n",
      " |  \n",
      " |  __getnewargs__(self, /)\n",
      " |  \n",
      " |  __gt__(self, value, /)\n",
      " |      Return self>value.\n",
      " |  \n",
      " |  __hash__(self, /)\n",
      " |      Return hash(self).\n",
      " |  \n",
      " |  __index__(self, /)\n",
      " |      Return self converted to an integer, if self is suitable for use as an index into a list.\n",
      " |  \n",
      " |  __int__(self, /)\n",
      " |      int(self)\n",
      " |  \n",
      " |  __invert__(self, /)\n",
      " |      ~self\n",
      " |  \n",
      " |  __le__(self, value, /)\n",
      " |      Return self<=value.\n",
      " |  \n",
      " |  __lshift__(self, value, /)\n",
      " |      Return self<<value.\n",
      " |  \n",
      " |  __lt__(self, value, /)\n",
      " |      Return self<value.\n",
      " |  \n",
      " |  __mod__(self, value, /)\n",
      " |      Return self%value.\n",
      " |  \n",
      " |  __mul__(self, value, /)\n",
      " |      Return self*value.\n",
      " |  \n",
      " |  __ne__(self, value, /)\n",
      " |      Return self!=value.\n",
      " |  \n",
      " |  __neg__(self, /)\n",
      " |      -self\n",
      " |  \n",
      " |  __or__(self, value, /)\n",
      " |      Return self|value.\n",
      " |  \n",
      " |  __pos__(self, /)\n",
      " |      +self\n",
      " |  \n",
      " |  __pow__(self, value, mod=None, /)\n",
      " |      Return pow(self, value, mod).\n",
      " |  \n",
      " |  __radd__(self, value, /)\n",
      " |      Return value+self.\n",
      " |  \n",
      " |  __rand__(self, value, /)\n",
      " |      Return value&self.\n",
      " |  \n",
      " |  __rdivmod__(self, value, /)\n",
      " |      Return divmod(value, self).\n",
      " |  \n",
      " |  __repr__(self, /)\n",
      " |      Return repr(self).\n",
      " |  \n",
      " |  __rfloordiv__(self, value, /)\n",
      " |      Return value//self.\n",
      " |  \n",
      " |  __rlshift__(self, value, /)\n",
      " |      Return value<<self.\n",
      " |  \n",
      " |  __rmod__(self, value, /)\n",
      " |      Return value%self.\n",
      " |  \n",
      " |  __rmul__(self, value, /)\n",
      " |      Return value*self.\n",
      " |  \n",
      " |  __ror__(self, value, /)\n",
      " |      Return value|self.\n",
      " |  \n",
      " |  __round__(...)\n",
      " |      Rounding an Integral returns itself.\n",
      " |      Rounding with an ndigits argument also returns an integer.\n",
      " |  \n",
      " |  __rpow__(self, value, mod=None, /)\n",
      " |      Return pow(value, self, mod).\n",
      " |  \n",
      " |  __rrshift__(self, value, /)\n",
      " |      Return value>>self.\n",
      " |  \n",
      " |  __rshift__(self, value, /)\n",
      " |      Return self>>value.\n",
      " |  \n",
      " |  __rsub__(self, value, /)\n",
      " |      Return value-self.\n",
      " |  \n",
      " |  __rtruediv__(self, value, /)\n",
      " |      Return value/self.\n",
      " |  \n",
      " |  __rxor__(self, value, /)\n",
      " |      Return value^self.\n",
      " |  \n",
      " |  __sizeof__(self, /)\n",
      " |      Returns size in memory, in bytes.\n",
      " |  \n",
      " |  __sub__(self, value, /)\n",
      " |      Return self-value.\n",
      " |  \n",
      " |  __truediv__(self, value, /)\n",
      " |      Return self/value.\n",
      " |  \n",
      " |  __trunc__(...)\n",
      " |      Truncating an Integral returns itself.\n",
      " |  \n",
      " |  __xor__(self, value, /)\n",
      " |      Return self^value.\n",
      " |  \n",
      " |  as_integer_ratio(self, /)\n",
      " |      Return integer ratio.\n",
      " |      \n",
      " |      Return a pair of integers, whose ratio is exactly equal to the original int\n",
      " |      and with a positive denominator.\n",
      " |      \n",
      " |      >>> (10).as_integer_ratio()\n",
      " |      (10, 1)\n",
      " |      >>> (-10).as_integer_ratio()\n",
      " |      (-10, 1)\n",
      " |      >>> (0).as_integer_ratio()\n",
      " |      (0, 1)\n",
      " |  \n",
      " |  bit_length(self, /)\n",
      " |      Number of bits necessary to represent self in binary.\n",
      " |      \n",
      " |      >>> bin(37)\n",
      " |      '0b100101'\n",
      " |      >>> (37).bit_length()\n",
      " |      6\n",
      " |  \n",
      " |  conjugate(...)\n",
      " |      Returns self, the complex conjugate of any int.\n",
      " |  \n",
      " |  to_bytes(self, /, length, byteorder, *, signed=False)\n",
      " |      Return an array of bytes representing an integer.\n",
      " |      \n",
      " |      length\n",
      " |        Length of bytes object to use.  An OverflowError is raised if the\n",
      " |        integer is not representable with the given number of bytes.\n",
      " |      byteorder\n",
      " |        The byte order used to represent the integer.  If byteorder is 'big',\n",
      " |        the most significant byte is at the beginning of the byte array.  If\n",
      " |        byteorder is 'little', the most significant byte is at the end of the\n",
      " |        byte array.  To request the native byte order of the host system, use\n",
      " |        `sys.byteorder' as the byte order value.\n",
      " |      signed\n",
      " |        Determines whether two's complement is used to represent the integer.\n",
      " |        If signed is False and a negative integer is given, an OverflowError\n",
      " |        is raised.\n",
      " |  \n",
      " |  ----------------------------------------------------------------------\n",
      " |  Class methods defined here:\n",
      " |  \n",
      " |  from_bytes(bytes, byteorder, *, signed=False) from builtins.type\n",
      " |      Return the integer represented by the given array of bytes.\n",
      " |      \n",
      " |      bytes\n",
      " |        Holds the array of bytes to convert.  The argument must either\n",
      " |        support the buffer protocol or be an iterable object producing bytes.\n",
      " |        Bytes and bytearray are examples of built-in objects that support the\n",
      " |        buffer protocol.\n",
      " |      byteorder\n",
      " |        The byte order used to represent the integer.  If byteorder is 'big',\n",
      " |        the most significant byte is at the beginning of the byte array.  If\n",
      " |        byteorder is 'little', the most significant byte is at the end of the\n",
      " |        byte array.  To request the native byte order of the host system, use\n",
      " |        `sys.byteorder' as the byte order value.\n",
      " |      signed\n",
      " |        Indicates whether two's complement is used to represent the integer.\n",
      " |  \n",
      " |  ----------------------------------------------------------------------\n",
      " |  Static methods defined here:\n",
      " |  \n",
      " |  __new__(*args, **kwargs) from builtins.type\n",
      " |      Create and return a new object.  See help(type) for accurate signature.\n",
      " |  \n",
      " |  ----------------------------------------------------------------------\n",
      " |  Data descriptors defined here:\n",
      " |  \n",
      " |  denominator\n",
      " |      the denominator of a rational number in lowest terms\n",
      " |  \n",
      " |  imag\n",
      " |      the imaginary part of a complex number\n",
      " |  \n",
      " |  numerator\n",
      " |      the numerator of a rational number in lowest terms\n",
      " |  \n",
      " |  real\n",
      " |      the real part of a complex number\n",
      "\n"
     ]
    }
   ],
   "source": [
    "# there is a lot of information stored that we can see running help method\n",
    "x = 1000\n",
    "help(x)"
   ]
  },
  {
   "cell_type": "code",
   "execution_count": 8,
   "id": "5b034bda",
   "metadata": {},
   "outputs": [
    {
     "name": "stdout",
     "output_type": "stream",
     "text": [
      "[0, 1, 2, 3, 4, 5, 6, 7, 8, 9]\n"
     ]
    },
    {
     "data": {
      "text/plain": [
       "list"
      ]
     },
     "execution_count": 8,
     "metadata": {},
     "output_type": "execute_result"
    }
   ],
   "source": [
    "#as we saw, we can make lists of all types- all int, all strings, or heterogeneous\n",
    "\n",
    "L = list(range(10))\n",
    "print(L)\n",
    "type(L)"
   ]
  },
  {
   "cell_type": "code",
   "execution_count": 9,
   "id": "880d59c3",
   "metadata": {},
   "outputs": [
    {
     "name": "stdout",
     "output_type": "stream",
     "text": [
      "['0', '1', '2', '3', '4', '5', '6', '7', '8', '9']\n"
     ]
    },
    {
     "data": {
      "text/plain": [
       "str"
      ]
     },
     "execution_count": 9,
     "metadata": {},
     "output_type": "execute_result"
    }
   ],
   "source": [
    "L2 = [str(c) for c in L]\n",
    "print(L2)\n",
    "type(L2[0])"
   ]
  },
  {
   "cell_type": "code",
   "execution_count": 10,
   "id": "a1111cec",
   "metadata": {},
   "outputs": [
    {
     "data": {
      "text/plain": [
       "[bool, str, float, int]"
      ]
     },
     "execution_count": 10,
     "metadata": {},
     "output_type": "execute_result"
    }
   ],
   "source": [
    "L3 = [True, \"2\", 3.0, 4]\n",
    "[type(i) for i in L3]"
   ]
  },
  {
   "cell_type": "markdown",
   "id": "02f13a20",
   "metadata": {},
   "source": [
    "[back to top](#Contents)\n",
    "\n",
    "<a id=\"2\"></a> \n",
    "\n",
    "# 2. NumPy vs Python Arrays\n",
    "\n",
    "Python has fixed-type arrays\n",
    "\n",
    "Both Python arrays and NumPy arrays can be created from lists\n",
    "\n",
    "Python arrays are created using the array module and method\n",
    "\n",
    "NumPy arrays are n-dimensional \n",
    "\n",
    "If there are multiple data types in an array, the array will be \"upcast\" or converted to the most flexible data \n",
    "type\n",
    "\n",
    "Notice the decimals introduced in npa4\n",
    "\n",
    "npa4 is now upcast to a generic object data type\n",
    "\n",
    "Arrays can only have one type of data so it will upcast \n",
    "\n",
    "we can also set the data type manually with arguments\n",
    "\n",
    "We can also create arrays within arrays, called multidimensional arrays"
   ]
  },
  {
   "cell_type": "code",
   "execution_count": 11,
   "id": "0e2a0306",
   "metadata": {},
   "outputs": [
    {
     "data": {
      "text/plain": [
       "array('i', [0, 1, 2, 3, 4, 5, 6, 7, 8, 9])"
      ]
     },
     "execution_count": 11,
     "metadata": {},
     "output_type": "execute_result"
    }
   ],
   "source": [
    "# this imports Python array\n",
    "\n",
    "import array\n",
    "\n",
    "L = list(range(10))\n",
    "A = array.array('i', L)\n",
    "A"
   ]
  },
  {
   "cell_type": "code",
   "execution_count": 12,
   "id": "39ddc8da",
   "metadata": {},
   "outputs": [
    {
     "data": {
      "text/plain": [
       "array([0, 1, 2, 3, 4, 5, 6, 7, 8, 9])"
      ]
     },
     "execution_count": 12,
     "metadata": {},
     "output_type": "execute_result"
    }
   ],
   "source": [
    "# this is a numpy array\n",
    "\n",
    "npa = np.array(L)\n",
    "npa"
   ]
  },
  {
   "cell_type": "code",
   "execution_count": 13,
   "id": "4054031b",
   "metadata": {},
   "outputs": [
    {
     "data": {
      "text/plain": [
       "array([1, 4, 2, 5, 3])"
      ]
     },
     "execution_count": 13,
     "metadata": {},
     "output_type": "execute_result"
    }
   ],
   "source": [
    "npa2 = np.array([1, 4, 2 ,5 ,3])\n",
    "npa2"
   ]
  },
  {
   "cell_type": "code",
   "execution_count": 14,
   "id": "678ca271",
   "metadata": {},
   "outputs": [
    {
     "data": {
      "text/plain": [
       "array([4.1, 3. , 6. ])"
      ]
     },
     "execution_count": 14,
     "metadata": {},
     "output_type": "execute_result"
    }
   ],
   "source": [
    "npa4 = np.array([4.1, 3, 6])\n",
    "npa4"
   ]
  },
  {
   "cell_type": "code",
   "execution_count": 15,
   "id": "05b33c4a",
   "metadata": {},
   "outputs": [
    {
     "data": {
      "text/plain": [
       "array(['a', '1', '3.2'], dtype='<U32')"
      ]
     },
     "execution_count": 15,
     "metadata": {},
     "output_type": "execute_result"
    }
   ],
   "source": [
    "npa3 = np.array([\"a\", 1, 3.2])\n",
    "npa3"
   ]
  },
  {
   "cell_type": "code",
   "execution_count": 16,
   "id": "314640a2",
   "metadata": {},
   "outputs": [
    {
     "data": {
      "text/plain": [
       "array([1., 2., 3., 4.])"
      ]
     },
     "execution_count": 16,
     "metadata": {},
     "output_type": "execute_result"
    }
   ],
   "source": [
    "np.array([1, 2, 3, 4], dtype = 'float')"
   ]
  },
  {
   "cell_type": "code",
   "execution_count": 17,
   "id": "05f6ac33",
   "metadata": {},
   "outputs": [
    {
     "name": "stdout",
     "output_type": "stream",
     "text": [
      "[[1 2 3]\n",
      " [4 5 6]]\n"
     ]
    }
   ],
   "source": [
    "z = np.array([[1, 2, 3], [4, 5, 6]])\n",
    "print(z)"
   ]
  },
  {
   "cell_type": "markdown",
   "id": "b99a9060",
   "metadata": {},
   "source": [
    "[back to top](#Contents)\n",
    "\n",
    "<a id=\"3\"></a> \n",
    "# 3. Creating Arrays from Scratch\n",
    "\n",
    "There are many ways to create NP arrays.  Here are some examples:\n",
    "\n",
    "np.zeros()\n",
    "\n",
    "np.ones()\n",
    "\n",
    "np.full()\n",
    "\n",
    "np.arange()\n",
    "\n",
    "np.linspace()\n",
    "\n",
    "np.random()\n",
    "\n",
    "np.eye()\n",
    "\n",
    "\n"
   ]
  },
  {
   "cell_type": "code",
   "execution_count": 18,
   "id": "243b50f9",
   "metadata": {},
   "outputs": [
    {
     "data": {
      "text/plain": [
       "array([0, 0, 0, 0, 0, 0, 0, 0, 0, 0])"
      ]
     },
     "execution_count": 18,
     "metadata": {},
     "output_type": "execute_result"
    }
   ],
   "source": [
    "np.zeros(10, dtype=int)"
   ]
  },
  {
   "cell_type": "code",
   "execution_count": 19,
   "id": "f318a58e",
   "metadata": {},
   "outputs": [
    {
     "data": {
      "text/plain": [
       "array([[1., 1., 1., 1., 1.],\n",
       "       [1., 1., 1., 1., 1.],\n",
       "       [1., 1., 1., 1., 1.]])"
      ]
     },
     "execution_count": 19,
     "metadata": {},
     "output_type": "execute_result"
    }
   ],
   "source": [
    "np.ones((3, 5), dtype=float)"
   ]
  },
  {
   "cell_type": "code",
   "execution_count": 20,
   "id": "4ccfb004",
   "metadata": {},
   "outputs": [
    {
     "data": {
      "text/plain": [
       "array([[3.1415, 3.1415, 3.1415, 3.1415, 3.1415],\n",
       "       [3.1415, 3.1415, 3.1415, 3.1415, 3.1415],\n",
       "       [3.1415, 3.1415, 3.1415, 3.1415, 3.1415]])"
      ]
     },
     "execution_count": 20,
     "metadata": {},
     "output_type": "execute_result"
    }
   ],
   "source": [
    "np.full((3, 5), 3.1415)"
   ]
  },
  {
   "cell_type": "markdown",
   "id": "2289db25",
   "metadata": {},
   "source": [
    "[back to top](#Contents)\n",
    "\n",
    "<a id=\"4\"></a> \n",
    "\n",
    "# 4.  Multidimensional Arrays\n",
    "\n",
    "we can make arrays that are multidimensional \n",
    "\n",
    "here are two and three dimensional arrays"
   ]
  },
  {
   "cell_type": "code",
   "execution_count": 22,
   "id": "2880800c",
   "metadata": {},
   "outputs": [
    {
     "name": "stdout",
     "output_type": "stream",
     "text": [
      "[[1 2 3]\n",
      " [4 5 6]]\n"
     ]
    }
   ],
   "source": [
    "z = np.array([[1,2,3], [4,5,6]])\n",
    "print(z)"
   ]
  },
  {
   "cell_type": "code",
   "execution_count": 23,
   "id": "4f5c9dc7",
   "metadata": {},
   "outputs": [
    {
     "name": "stdout",
     "output_type": "stream",
     "text": [
      "[[1 2 3]\n",
      " [4 5 6]\n",
      " [7 8 9]]\n"
     ]
    }
   ],
   "source": [
    "z2 = np.array([[1,2,3], [4,5,6], [7,8,9]])\n",
    "print(z2)"
   ]
  },
  {
   "cell_type": "code",
   "execution_count": 28,
   "id": "3d79b2cb",
   "metadata": {},
   "outputs": [],
   "source": [
    "x3 = np.random.randint(10, size = (3,4))\n",
    "x4 = np.random.randint(10, size = (3, 4, 5))"
   ]
  },
  {
   "cell_type": "code",
   "execution_count": 29,
   "id": "320a9615",
   "metadata": {},
   "outputs": [
    {
     "name": "stdout",
     "output_type": "stream",
     "text": [
      "[[4 3 9 1]\n",
      " [4 0 2 9]\n",
      " [1 5 5 1]]\n"
     ]
    }
   ],
   "source": [
    "# 2-dimensional: 4 elements in 3 different arrays \n",
    "\n",
    "print(x3)"
   ]
  },
  {
   "cell_type": "code",
   "execution_count": 30,
   "id": "26561a16",
   "metadata": {},
   "outputs": [
    {
     "name": "stdout",
     "output_type": "stream",
     "text": [
      "[[[2 7 6 6 1]\n",
      "  [5 0 9 6 1]\n",
      "  [7 8 5 4 7]\n",
      "  [3 6 3 2 8]]\n",
      "\n",
      " [[6 0 7 7 5]\n",
      "  [2 4 6 1 0]\n",
      "  [7 6 5 1 3]\n",
      "  [1 4 2 4 4]]\n",
      "\n",
      " [[6 2 1 3 8]\n",
      "  [3 9 6 8 2]\n",
      "  [1 6 8 4 1]\n",
      "  [7 7 7 0 4]]]\n"
     ]
    }
   ],
   "source": [
    "# 3-dimensional: 3 arrays, 4X5 dimension\n",
    "print(x4)"
   ]
  },
  {
   "cell_type": "code",
   "execution_count": 35,
   "id": "c62510c4",
   "metadata": {},
   "outputs": [
    {
     "name": "stdout",
     "output_type": "stream",
     "text": [
      "x4 ndim: 3\n",
      "x4 shape: (3, 4, 5)\n",
      "x4 size: 60\n"
     ]
    }
   ],
   "source": [
    "# checking dimensions, shape, size.  Just playing with attributes.\n",
    "\n",
    "print(\"x4 ndim:\", x4.ndim)\n",
    "print(\"x4 shape:\", x4.shape)\n",
    "print(\"x4 size:\", x4.size)\n"
   ]
  },
  {
   "cell_type": "code",
   "execution_count": 34,
   "id": "90012d24",
   "metadata": {},
   "outputs": [
    {
     "data": {
      "text/plain": [
       "60"
      ]
     },
     "execution_count": 34,
     "metadata": {},
     "output_type": "execute_result"
    }
   ],
   "source": [
    "x4.size"
   ]
  },
  {
   "cell_type": "markdown",
   "id": "cd36dc5a",
   "metadata": {},
   "source": [
    "We can leave out optional text, like size = "
   ]
  },
  {
   "cell_type": "code",
   "execution_count": 36,
   "id": "ed3fd8f5",
   "metadata": {},
   "outputs": [
    {
     "data": {
      "text/plain": [
       "array([[0.90664122, 0.34753752, 0.27479456],\n",
       "       [0.51558815, 0.92744609, 0.96436822],\n",
       "       [0.09837894, 0.56931608, 0.38696337]])"
      ]
     },
     "execution_count": 36,
     "metadata": {},
     "output_type": "execute_result"
    }
   ],
   "source": [
    "np.random.random((3,3))"
   ]
  },
  {
   "cell_type": "markdown",
   "id": "15594067",
   "metadata": {},
   "source": [
    "A note about randomness in python\n",
    "\n",
    "No values are truely random\n",
    "\n",
    "to get a reproducible value, you can set your random seed\n",
    "\n",
    "set a random seed to get the same values everytime you run the random function\n",
    "\n",
    "this will only impact the cell you are working in"
   ]
  },
  {
   "cell_type": "code",
   "execution_count": 37,
   "id": "7b796799",
   "metadata": {},
   "outputs": [
    {
     "data": {
      "text/plain": [
       "array([[0.54340494, 0.27836939, 0.42451759],\n",
       "       [0.84477613, 0.00471886, 0.12156912],\n",
       "       [0.67074908, 0.82585276, 0.13670659]])"
      ]
     },
     "execution_count": 37,
     "metadata": {},
     "output_type": "execute_result"
    }
   ],
   "source": [
    "np.random.seed(100)\n",
    "np.random.random((3,3))"
   ]
  },
  {
   "cell_type": "markdown",
   "id": "7605601f",
   "metadata": {},
   "source": [
    "[back to top](#Contents)\n",
    "\n",
    "<a id=\"5\"></a> \n",
    "\n",
    "# 5.  Indexing Arrays\n",
    "\n",
    "You can index one dimensional arrays just like lists \n",
    "\n",
    "Multidimensional arrays can be indexed, too\n",
    "\n",
    "Use comma-separated tuples to do so\n",
    "\n",
    "the first one references the array you want, the second, which item\n"
   ]
  },
  {
   "cell_type": "code",
   "execution_count": 40,
   "id": "a3ddabc7",
   "metadata": {},
   "outputs": [
    {
     "name": "stdout",
     "output_type": "stream",
     "text": [
      "[5 0 3 3 7 9]\n"
     ]
    }
   ],
   "source": [
    "np.random.seed(0)\n",
    "x1 = np.random.randint(10, size = 6)\n",
    "x2 = np.random.randint(10, size = (3,4))\n",
    "x3 = np.random.randint(10, size = (3,4,5))\n",
    "print(x1)\n",
    "\n"
   ]
  },
  {
   "cell_type": "code",
   "execution_count": 39,
   "id": "8fda108c",
   "metadata": {},
   "outputs": [
    {
     "name": "stdout",
     "output_type": "stream",
     "text": [
      "5\n",
      "7\n",
      "9\n"
     ]
    }
   ],
   "source": [
    "# indexing 1D array\n",
    "\n",
    "print(x1[0])\n",
    "print(x1[4])\n",
    "print(x1[-1])"
   ]
  },
  {
   "cell_type": "code",
   "execution_count": 42,
   "id": "62aeed07",
   "metadata": {},
   "outputs": [
    {
     "data": {
      "text/plain": [
       "array([[3, 5, 2, 4],\n",
       "       [7, 6, 8, 8],\n",
       "       [1, 6, 7, 7]])"
      ]
     },
     "execution_count": 42,
     "metadata": {},
     "output_type": "execute_result"
    }
   ],
   "source": [
    "x2"
   ]
  },
  {
   "cell_type": "code",
   "execution_count": 43,
   "id": "4090a3c7",
   "metadata": {},
   "outputs": [
    {
     "data": {
      "text/plain": [
       "7"
      ]
     },
     "execution_count": 43,
     "metadata": {},
     "output_type": "execute_result"
    }
   ],
   "source": [
    "# indexing 2D array\n",
    "\n",
    "x2[2, 3]"
   ]
  },
  {
   "cell_type": "code",
   "execution_count": 44,
   "id": "200d5494",
   "metadata": {},
   "outputs": [
    {
     "data": {
      "text/plain": [
       "array([[[8, 1, 5, 9, 8],\n",
       "        [9, 4, 3, 0, 3],\n",
       "        [5, 0, 2, 3, 8],\n",
       "        [1, 3, 3, 3, 7]],\n",
       "\n",
       "       [[0, 1, 9, 9, 0],\n",
       "        [4, 7, 3, 2, 7],\n",
       "        [2, 0, 0, 4, 5],\n",
       "        [5, 6, 8, 4, 1]],\n",
       "\n",
       "       [[4, 9, 8, 1, 1],\n",
       "        [7, 9, 9, 3, 6],\n",
       "        [7, 2, 0, 3, 5],\n",
       "        [9, 4, 4, 6, 4]]])"
      ]
     },
     "execution_count": 44,
     "metadata": {},
     "output_type": "execute_result"
    }
   ],
   "source": [
    "x3"
   ]
  },
  {
   "cell_type": "code",
   "execution_count": 45,
   "id": "0b664039",
   "metadata": {},
   "outputs": [
    {
     "data": {
      "text/plain": [
       "4"
      ]
     },
     "execution_count": 45,
     "metadata": {},
     "output_type": "execute_result"
    }
   ],
   "source": [
    "# indexing 3D array\n",
    "\n",
    "x3[2, 3, 4]"
   ]
  },
  {
   "cell_type": "markdown",
   "id": "100d36b9",
   "metadata": {},
   "source": [
    "[back to top](#Contents)\n",
    "\n",
    "<a id=\"6\"></a> \n",
    "\n",
    "# 6. Slicing Arrays\n",
    "\n",
    "slicing arrays is a lot like slicing lists, with a couple additions\n",
    "\n",
    "One-dimensional arrays are the exact same\n",
    "\n",
    "but \n",
    "\n",
    "\n",
    "One new aspect: steps\n",
    "\n",
    "You can add to your slice to skip\n",
    "\n",
    "name of array [start: stop: step]\n",
    "\n",
    "if unspecified start = 0, stop = end of array, and step = 1\n",
    "\n",
    "(so if start and stop are unspecified, we are looking at the whole list)"
   ]
  },
  {
   "cell_type": "code",
   "execution_count": 48,
   "id": "6a15b815",
   "metadata": {},
   "outputs": [
    {
     "data": {
      "text/plain": [
       "array([0, 1, 2, 3, 4, 5, 6, 7, 8, 9])"
      ]
     },
     "execution_count": 48,
     "metadata": {},
     "output_type": "execute_result"
    }
   ],
   "source": [
    "x = np.arange(10)\n",
    "x"
   ]
  },
  {
   "cell_type": "code",
   "execution_count": 49,
   "id": "1d33f390",
   "metadata": {},
   "outputs": [
    {
     "name": "stdout",
     "output_type": "stream",
     "text": [
      "[0 1 2 3 4]\n",
      "[5 6 7 8 9]\n",
      "[4 5 6]\n"
     ]
    }
   ],
   "source": [
    "print(x[:5])\n",
    "print(x[5:])\n",
    "print(x[4:7])"
   ]
  },
  {
   "cell_type": "code",
   "execution_count": 51,
   "id": "0e4e9a35",
   "metadata": {},
   "outputs": [
    {
     "data": {
      "text/plain": [
       "array([0, 2, 4, 6, 8])"
      ]
     },
     "execution_count": 51,
     "metadata": {},
     "output_type": "execute_result"
    }
   ],
   "source": [
    "# slicing whole array but in steps of 2 \n",
    "\n",
    "x[::2]"
   ]
  },
  {
   "cell_type": "code",
   "execution_count": 53,
   "id": "ad0d91de",
   "metadata": {},
   "outputs": [
    {
     "data": {
      "text/plain": [
       "array([1, 3, 5, 7, 9])"
      ]
     },
     "execution_count": 53,
     "metadata": {},
     "output_type": "execute_result"
    }
   ],
   "source": [
    "# same as above but starting at index 1\n",
    "x[1::2]"
   ]
  },
  {
   "cell_type": "code",
   "execution_count": 55,
   "id": "069a9acc",
   "metadata": {},
   "outputs": [
    {
     "data": {
      "text/plain": [
       "array([1, 3])"
      ]
     },
     "execution_count": 55,
     "metadata": {},
     "output_type": "execute_result"
    }
   ],
   "source": [
    "# from index 1 to 5 by 2 steps\n",
    "\n",
    "x[1:5:2]"
   ]
  },
  {
   "cell_type": "code",
   "execution_count": 57,
   "id": "30facbd1",
   "metadata": {},
   "outputs": [
    {
     "data": {
      "text/plain": [
       "array([0, 3, 6, 9])"
      ]
     },
     "execution_count": 57,
     "metadata": {},
     "output_type": "execute_result"
    }
   ],
   "source": [
    "# going by steps of 3\n",
    "\n",
    "x[::3]"
   ]
  },
  {
   "cell_type": "markdown",
   "id": "8ac8ed87",
   "metadata": {},
   "source": [
    "[back to top](#Contents)\n",
    "\n",
    "<a id=\"7\"></a> \n",
    "\n",
    "# 7. Multi-Dimensional Subarrays\n",
    "\n",
    "the same as one-dimensional arrays, but with a comma separating elements\n",
    "\n",
    "the sytax is: name of array [slicing for array, slicing for items in array]\n",
    "\n",
    "or, which arrays we are looking at, where are we looking"
   ]
  },
  {
   "cell_type": "code",
   "execution_count": 58,
   "id": "c6529e09",
   "metadata": {},
   "outputs": [
    {
     "name": "stdout",
     "output_type": "stream",
     "text": [
      "[[5 0 3 3]\n",
      " [7 9 3 5]\n",
      " [2 4 7 6]]\n"
     ]
    }
   ],
   "source": [
    "np.random.seed(0)\n",
    "x2 = np.random.randint(10, size = (3, 4))\n",
    "print(x2)\n",
    "           "
   ]
  },
  {
   "cell_type": "code",
   "execution_count": 59,
   "id": "944eaf35",
   "metadata": {},
   "outputs": [
    {
     "data": {
      "text/plain": [
       "array([[5, 0, 3],\n",
       "       [7, 9, 3]])"
      ]
     },
     "execution_count": 59,
     "metadata": {},
     "output_type": "execute_result"
    }
   ],
   "source": [
    "x2[:2, :3]"
   ]
  },
  {
   "cell_type": "code",
   "execution_count": 60,
   "id": "a99e424f",
   "metadata": {},
   "outputs": [
    {
     "data": {
      "text/plain": [
       "array([[7, 9, 3]])"
      ]
     },
     "execution_count": 60,
     "metadata": {},
     "output_type": "execute_result"
    }
   ],
   "source": [
    "x2[1:2, :3]"
   ]
  },
  {
   "cell_type": "code",
   "execution_count": 61,
   "id": "7f21b26d",
   "metadata": {},
   "outputs": [
    {
     "data": {
      "text/plain": [
       "array([[5, 0, 3, 3]])"
      ]
     },
     "execution_count": 61,
     "metadata": {},
     "output_type": "execute_result"
    }
   ],
   "source": [
    "x2[:1, :]"
   ]
  },
  {
   "cell_type": "code",
   "execution_count": 62,
   "id": "75e8d625",
   "metadata": {},
   "outputs": [
    {
     "data": {
      "text/plain": [
       "array([5, 0, 3, 3])"
      ]
     },
     "execution_count": 62,
     "metadata": {},
     "output_type": "execute_result"
    }
   ],
   "source": [
    "x2[0, :]"
   ]
  },
  {
   "cell_type": "code",
   "execution_count": 63,
   "id": "fef4756c",
   "metadata": {},
   "outputs": [
    {
     "data": {
      "text/plain": [
       "array([[5, 0, 3, 3]])"
      ]
     },
     "execution_count": 63,
     "metadata": {},
     "output_type": "execute_result"
    }
   ],
   "source": [
    "x2[0:1, 0:]"
   ]
  },
  {
   "cell_type": "code",
   "execution_count": 65,
   "id": "a1448b02",
   "metadata": {},
   "outputs": [
    {
     "data": {
      "text/plain": [
       "array([[5, 0, 3, 3]])"
      ]
     },
     "execution_count": 65,
     "metadata": {},
     "output_type": "execute_result"
    }
   ],
   "source": [
    "# as you can see, there are often multiple ways to get the same results\n",
    "x2[0:1, 0:4]"
   ]
  },
  {
   "cell_type": "code",
   "execution_count": 66,
   "id": "763d0a85",
   "metadata": {},
   "outputs": [
    {
     "name": "stdout",
     "output_type": "stream",
     "text": [
      "[[5 8 9 5]\n",
      " [0 0 1 7]\n",
      " [6 9 2 4]]\n"
     ]
    }
   ],
   "source": [
    "np.random.seed(1)\n",
    "j = np.random.randint(10, size = (3,4))\n",
    "print(j)"
   ]
  },
  {
   "cell_type": "code",
   "execution_count": 67,
   "id": "e206edea",
   "metadata": {},
   "outputs": [
    {
     "data": {
      "text/plain": [
       "array([[0, 1]])"
      ]
     },
     "execution_count": 67,
     "metadata": {},
     "output_type": "execute_result"
    }
   ],
   "source": [
    "j[1:2, 1:3]"
   ]
  },
  {
   "cell_type": "code",
   "execution_count": 72,
   "id": "5e75add0",
   "metadata": {},
   "outputs": [
    {
     "data": {
      "text/plain": [
       "array([0, 1])"
      ]
     },
     "execution_count": 72,
     "metadata": {},
     "output_type": "execute_result"
    }
   ],
   "source": [
    "j[1, 1:3]"
   ]
  },
  {
   "cell_type": "code",
   "execution_count": 69,
   "id": "f87e9dc8",
   "metadata": {},
   "outputs": [
    {
     "data": {
      "text/plain": [
       "array([6, 9, 2])"
      ]
     },
     "execution_count": 69,
     "metadata": {},
     "output_type": "execute_result"
    }
   ],
   "source": [
    "j[2, :3]"
   ]
  },
  {
   "cell_type": "code",
   "execution_count": 70,
   "id": "adf6ba2e",
   "metadata": {},
   "outputs": [
    {
     "data": {
      "text/plain": [
       "array([[6, 9, 2]])"
      ]
     },
     "execution_count": 70,
     "metadata": {},
     "output_type": "execute_result"
    }
   ],
   "source": [
    "j[2:3, 0:3]"
   ]
  },
  {
   "cell_type": "code",
   "execution_count": 73,
   "id": "bc6b721e",
   "metadata": {},
   "outputs": [
    {
     "data": {
      "text/plain": [
       "array([[8, 9, 5],\n",
       "       [0, 1, 7]])"
      ]
     },
     "execution_count": 73,
     "metadata": {},
     "output_type": "execute_result"
    }
   ],
   "source": [
    "j[:2, 1:]"
   ]
  },
  {
   "cell_type": "code",
   "execution_count": 74,
   "id": "18aa112f",
   "metadata": {},
   "outputs": [
    {
     "data": {
      "text/plain": [
       "array([[8, 9, 5],\n",
       "       [0, 1, 7]])"
      ]
     },
     "execution_count": 74,
     "metadata": {},
     "output_type": "execute_result"
    }
   ],
   "source": [
    "j[0:2, 1:4]"
   ]
  },
  {
   "cell_type": "code",
   "execution_count": 77,
   "id": "16b318e9",
   "metadata": {},
   "outputs": [
    {
     "data": {
      "text/plain": [
       "array([5, 0, 6])"
      ]
     },
     "execution_count": 77,
     "metadata": {},
     "output_type": "execute_result"
    }
   ],
   "source": [
    "j[:, 0]"
   ]
  },
  {
   "cell_type": "code",
   "execution_count": 76,
   "id": "7f096ef7",
   "metadata": {},
   "outputs": [
    {
     "data": {
      "text/plain": [
       "array([[5],\n",
       "       [0],\n",
       "       [6]])"
      ]
     },
     "execution_count": 76,
     "metadata": {},
     "output_type": "execute_result"
    }
   ],
   "source": [
    "j[0:3, 0:1]"
   ]
  },
  {
   "cell_type": "markdown",
   "id": "5e3b067e",
   "metadata": {},
   "source": [
    "[back to top](#Contents)\n",
    "\n",
    "<a id=\"8\"></a> \n",
    "\n",
    "# 8. Subarrays as No-Copy Views\n",
    "\n",
    "slices (subarrays) are not copies of your array, they are views\n",
    "\n",
    "this means if you alter a subarray, it will alter the original\n",
    "\n",
    "You can alter values in arrays just like you alter lists\n",
    "\n",
    "How/when would this be helpful?\n",
    "\n",
    "When you have a large data set but you just want to look at and manipulate a small part of it"
   ]
  },
  {
   "cell_type": "code",
   "execution_count": 78,
   "id": "c015e9e1",
   "metadata": {},
   "outputs": [
    {
     "name": "stdout",
     "output_type": "stream",
     "text": [
      "[[5 0 3 3]\n",
      " [7 9 3 5]\n",
      " [2 4 7 6]]\n"
     ]
    }
   ],
   "source": [
    "np.random.seed(0)\n",
    "x2 = np.random.randint(10, size = (3, 4))\n",
    "print(x2)"
   ]
  },
  {
   "cell_type": "code",
   "execution_count": 79,
   "id": "5f257ec1",
   "metadata": {},
   "outputs": [
    {
     "name": "stdout",
     "output_type": "stream",
     "text": [
      "[[5 0]\n",
      " [7 9]]\n"
     ]
    }
   ],
   "source": [
    "x2_sub = x2 [:2, :2]\n",
    "print(x2_sub)"
   ]
  },
  {
   "cell_type": "code",
   "execution_count": 80,
   "id": "539e99db",
   "metadata": {},
   "outputs": [],
   "source": [
    "x2_sub[0, 0]=99\n"
   ]
  },
  {
   "cell_type": "code",
   "execution_count": 81,
   "id": "43ccef85",
   "metadata": {},
   "outputs": [
    {
     "data": {
      "text/plain": [
       "array([[99,  0,  3,  3],\n",
       "       [ 7,  9,  3,  5],\n",
       "       [ 2,  4,  7,  6]])"
      ]
     },
     "execution_count": 81,
     "metadata": {},
     "output_type": "execute_result"
    }
   ],
   "source": [
    "# the original is now altered\n",
    "\n",
    "x2"
   ]
  },
  {
   "cell_type": "markdown",
   "id": "02f9e821",
   "metadata": {},
   "source": [
    "### Copies of Arrays\n",
    "\n",
    "If instead of risking the chance of altering the original, you can use the .copy() method \n"
   ]
  },
  {
   "cell_type": "code",
   "execution_count": 83,
   "id": "82a432d3",
   "metadata": {},
   "outputs": [
    {
     "name": "stdout",
     "output_type": "stream",
     "text": [
      "[[99  0]\n",
      " [ 7  9]]\n"
     ]
    }
   ],
   "source": [
    "x2_sub_copy = x2[:2, :2].copy()\n",
    "print(x2_sub_copy)"
   ]
  },
  {
   "cell_type": "code",
   "execution_count": 84,
   "id": "3317be03",
   "metadata": {},
   "outputs": [
    {
     "name": "stdout",
     "output_type": "stream",
     "text": [
      "[[42  0]\n",
      " [ 7  9]]\n"
     ]
    }
   ],
   "source": [
    "x2_sub_copy[0, 0]=42\n",
    "print(x2_sub_copy)"
   ]
  },
  {
   "cell_type": "code",
   "execution_count": 85,
   "id": "a46f5ce5",
   "metadata": {},
   "outputs": [
    {
     "name": "stdout",
     "output_type": "stream",
     "text": [
      "[[99  0  3  3]\n",
      " [ 7  9  3  5]\n",
      " [ 2  4  7  6]]\n"
     ]
    }
   ],
   "source": [
    "print(x2)"
   ]
  },
  {
   "cell_type": "markdown",
   "id": "72a88d00",
   "metadata": {},
   "source": [
    "## Challenge!\n",
    "\n",
    "Create a random 4x4 array\n",
    "\n",
    "change the value of 2nd value of 3rd array\n",
    "\n",
    "change the value of 4th value of 2nd array\n",
    "\n",
    "create a copy of third array\n",
    "\n",
    "reshape the array into a column vector"
   ]
  },
  {
   "cell_type": "code",
   "execution_count": 86,
   "id": "4949e794",
   "metadata": {},
   "outputs": [
    {
     "data": {
      "text/plain": [
       "array([[4, 0, 3, 3],\n",
       "       [3, 1, 3, 2],\n",
       "       [4, 0, 0, 4],\n",
       "       [2, 1, 0, 1]])"
      ]
     },
     "execution_count": 86,
     "metadata": {},
     "output_type": "execute_result"
    }
   ],
   "source": [
    "np.random.seed(0)\n",
    "x = np.random.randint(5, size =(4, 4))\n",
    "x"
   ]
  },
  {
   "cell_type": "code",
   "execution_count": 87,
   "id": "e9092e93",
   "metadata": {},
   "outputs": [
    {
     "data": {
      "text/plain": [
       "array([[4, 0, 3, 3],\n",
       "       [3, 1, 3, 2],\n",
       "       [4, 5, 0, 4],\n",
       "       [2, 1, 0, 1]])"
      ]
     },
     "execution_count": 87,
     "metadata": {},
     "output_type": "execute_result"
    }
   ],
   "source": [
    "x[2, 1] = 5\n",
    "x"
   ]
  },
  {
   "cell_type": "code",
   "execution_count": 88,
   "id": "22d53897",
   "metadata": {},
   "outputs": [
    {
     "data": {
      "text/plain": [
       "array([[ 4,  0,  3,  3],\n",
       "       [ 3,  1,  3, 20],\n",
       "       [ 4,  5,  0,  4],\n",
       "       [ 2,  1,  0,  1]])"
      ]
     },
     "execution_count": 88,
     "metadata": {},
     "output_type": "execute_result"
    }
   ],
   "source": [
    "x[1, 3] = 20\n",
    "x"
   ]
  },
  {
   "cell_type": "code",
   "execution_count": 90,
   "id": "0be2a351",
   "metadata": {},
   "outputs": [
    {
     "data": {
      "text/plain": [
       "array([4, 5, 0, 4])"
      ]
     },
     "execution_count": 90,
     "metadata": {},
     "output_type": "execute_result"
    }
   ],
   "source": [
    "x_copy = x[2].copy()\n",
    "x_copy"
   ]
  },
  {
   "cell_type": "code",
   "execution_count": 92,
   "id": "ec82e4c6",
   "metadata": {},
   "outputs": [
    {
     "data": {
      "text/plain": [
       "array([[4],\n",
       "       [5],\n",
       "       [0],\n",
       "       [4]])"
      ]
     },
     "execution_count": 92,
     "metadata": {},
     "output_type": "execute_result"
    }
   ],
   "source": [
    "x_copy.reshape((4, 1))\n"
   ]
  },
  {
   "cell_type": "markdown",
   "id": "07d25d66",
   "metadata": {},
   "source": [
    "[back to top](#Contents)\n",
    "\n",
    "<a id=\"9\"></a> \n",
    "\n",
    "# 9. Reshaping Arrays\n",
    "\n",
    "We can reshape arrays with the reshape method\n",
    "\n"
   ]
  },
  {
   "cell_type": "code",
   "execution_count": 94,
   "id": "1b71103d",
   "metadata": {},
   "outputs": [
    {
     "name": "stdout",
     "output_type": "stream",
     "text": [
      "[1 2 3 4 5 6 7 8 9]\n"
     ]
    }
   ],
   "source": [
    "array = np.arange(1, 10)\n",
    "print(array)"
   ]
  },
  {
   "cell_type": "code",
   "execution_count": 96,
   "id": "78f9add8",
   "metadata": {},
   "outputs": [
    {
     "name": "stdout",
     "output_type": "stream",
     "text": [
      "[[1 2 3]\n",
      " [4 5 6]\n",
      " [7 8 9]]\n"
     ]
    }
   ],
   "source": [
    "grid = array.reshape((3, 3))\n",
    "print(grid)"
   ]
  },
  {
   "cell_type": "code",
   "execution_count": 98,
   "id": "3949aa69",
   "metadata": {},
   "outputs": [],
   "source": [
    "# but arrays must match size\n",
    "\n",
    "# this wouldn't work \n",
    "\n",
    "#array2 = np.arange(1, 10)\n",
    "#grid2 = array2.reshape((3, 4))\n",
    "#print(array2)"
   ]
  },
  {
   "cell_type": "markdown",
   "id": "f542a7c4",
   "metadata": {},
   "source": [
    "We can also reshape a 1D array into a multi-dimensional 2D row or column matrix\n",
    "\n",
    "notice the extra [    ] in the output"
   ]
  },
  {
   "cell_type": "code",
   "execution_count": 100,
   "id": "9e0df1e8",
   "metadata": {},
   "outputs": [
    {
     "name": "stdout",
     "output_type": "stream",
     "text": [
      "[1 2 3]\n"
     ]
    }
   ],
   "source": [
    "x = np.array([1, 2, 3])\n",
    "print(x)"
   ]
  },
  {
   "cell_type": "code",
   "execution_count": 101,
   "id": "98aa23a5",
   "metadata": {},
   "outputs": [
    {
     "data": {
      "text/plain": [
       "array([[1, 2, 3]])"
      ]
     },
     "execution_count": 101,
     "metadata": {},
     "output_type": "execute_result"
    }
   ],
   "source": [
    "# this will make an array within an array (so called multi-dimensional)\n",
    "\n",
    "x.reshape((1, 3))"
   ]
  },
  {
   "cell_type": "code",
   "execution_count": 104,
   "id": "dfd98bbb",
   "metadata": {},
   "outputs": [
    {
     "data": {
      "text/plain": [
       "array([[1, 2, 3]])"
      ]
     },
     "execution_count": 104,
     "metadata": {},
     "output_type": "execute_result"
    }
   ],
   "source": [
    "# changing the axis this way does nothing, as expected.  \n",
    "\n",
    "x[np.newaxis, :]"
   ]
  },
  {
   "cell_type": "code",
   "execution_count": 103,
   "id": "fcadc23f",
   "metadata": {},
   "outputs": [
    {
     "data": {
      "text/plain": [
       "array([[1],\n",
       "       [2],\n",
       "       [3]])"
      ]
     },
     "execution_count": 103,
     "metadata": {},
     "output_type": "execute_result"
    }
   ],
   "source": [
    "# changing it this way takes our 1 row array and makes it 3 arrasys with 1 element each\n",
    "# also known as a column vector\n",
    "\n",
    "x[:, np.newaxis]"
   ]
  },
  {
   "cell_type": "code",
   "execution_count": 106,
   "id": "f60b2d7b",
   "metadata": {},
   "outputs": [
    {
     "data": {
      "text/plain": [
       "array([[1],\n",
       "       [2],\n",
       "       [3]])"
      ]
     },
     "execution_count": 106,
     "metadata": {},
     "output_type": "execute_result"
    }
   ],
   "source": [
    "# this does same thing (3 arrays, with 1 element in each)\n",
    "\n",
    "x.reshape(3, 1)"
   ]
  },
  {
   "cell_type": "code",
   "execution_count": 110,
   "id": "d277265c",
   "metadata": {},
   "outputs": [
    {
     "name": "stdout",
     "output_type": "stream",
     "text": [
      "[1 2 3]\n"
     ]
    },
    {
     "data": {
      "text/plain": [
       "array([[1],\n",
       "       [2],\n",
       "       [3]])"
      ]
     },
     "execution_count": 110,
     "metadata": {},
     "output_type": "execute_result"
    }
   ],
   "source": [
    "x2 = np.array([1, 2, 3])\n",
    "print(x2)\n",
    "x2[: ,np.newaxis]"
   ]
  },
  {
   "cell_type": "code",
   "execution_count": 111,
   "id": "4f6387b4",
   "metadata": {},
   "outputs": [
    {
     "data": {
      "text/plain": [
       "array([[1, 2, 3]])"
      ]
     },
     "execution_count": 111,
     "metadata": {},
     "output_type": "execute_result"
    }
   ],
   "source": [
    "x2[np.newaxis, :]"
   ]
  },
  {
   "cell_type": "code",
   "execution_count": 112,
   "id": "74830817",
   "metadata": {},
   "outputs": [
    {
     "data": {
      "text/plain": [
       "array([[1],\n",
       "       [2],\n",
       "       [3]])"
      ]
     },
     "execution_count": 112,
     "metadata": {},
     "output_type": "execute_result"
    }
   ],
   "source": [
    "x[: ,np.newaxis]"
   ]
  },
  {
   "cell_type": "markdown",
   "id": "2c792e8b",
   "metadata": {},
   "source": [
    "[back to top](#Contents)\n",
    "\n",
    "<a id=\"10\"></a> \n",
    "\n",
    "# 10. NumPy Aggregations\n",
    "\n",
    "The first step in data analysis is exploratory data analysis\n",
    "\n",
    "This includes visualization and descriptive statistics \n",
    "\n",
    "start by creating a random variable:\n",
    "\n",
    "And time how long it takes to run the python sum function on it vs numpy's sum function\n",
    "\n",
    "NumPy is much faster \n",
    "\n",
    "For big data sets, this is a big advantage "
   ]
  },
  {
   "cell_type": "code",
   "execution_count": 115,
   "id": "fcfb59c1",
   "metadata": {},
   "outputs": [
    {
     "name": "stdout",
     "output_type": "stream",
     "text": [
      "124 ms ± 12.6 ms per loop (mean ± std. dev. of 7 runs, 10 loops each)\n"
     ]
    }
   ],
   "source": [
    "big_array = np.random.rand(1000000)\n",
    "\n",
    "%timeit sum(big_array)"
   ]
  },
  {
   "cell_type": "code",
   "execution_count": 116,
   "id": "4a807ad8",
   "metadata": {},
   "outputs": [
    {
     "name": "stdout",
     "output_type": "stream",
     "text": [
      "1.18 ms ± 313 µs per loop (mean ± std. dev. of 7 runs, 1,000 loops each)\n"
     ]
    }
   ],
   "source": [
    "%timeit np.sum(big_array)"
   ]
  },
  {
   "cell_type": "code",
   "execution_count": 166,
   "id": "5288e545",
   "metadata": {},
   "outputs": [
    {
     "data": {
      "text/plain": [
       "495815"
      ]
     },
     "execution_count": 166,
     "metadata": {},
     "output_type": "execute_result"
    }
   ],
   "source": [
    "np.sum(big_array)"
   ]
  },
  {
   "cell_type": "code",
   "execution_count": 168,
   "id": "9a030ba4",
   "metadata": {},
   "outputs": [
    {
     "data": {
      "text/plain": [
       "495815"
      ]
     },
     "execution_count": 168,
     "metadata": {},
     "output_type": "execute_result"
    }
   ],
   "source": [
    "#same function, different anotation \n",
    "\n",
    "big_array.sum()"
   ]
  },
  {
   "cell_type": "markdown",
   "id": "ac7b4e28",
   "metadata": {},
   "source": [
    "Same with these.  \n",
    "\n",
    "min() and max() vs. np.min() and np.max()\n",
    "\n",
    "mean() and np.mean()\n",
    "\n",
    "std() and np.std()\n",
    "\n",
    "etc. \n",
    "\n",
    "\n",
    "\n",
    "\n",
    "### Multidimensional aggregates \n",
    "\n",
    "Doing the sum function yields one result with a multidim array bc by default the function adds all the numbers from all the arrays and sums\n",
    "\n",
    "if you wanted you can specifiy the the axis\n",
    "\n",
    "\n",
    "axis 1 is summing each row\n",
    "axis 0 is summing each column\n",
    "\n"
   ]
  },
  {
   "cell_type": "code",
   "execution_count": 117,
   "id": "987d47a8",
   "metadata": {},
   "outputs": [
    {
     "name": "stdout",
     "output_type": "stream",
     "text": [
      "[[0.5488135  0.71518937 0.60276338 0.54488318]\n",
      " [0.4236548  0.64589411 0.43758721 0.891773  ]\n",
      " [0.96366276 0.38344152 0.79172504 0.52889492]]\n"
     ]
    }
   ],
   "source": [
    "import numpy as np\n",
    "np.random.seed(0)\n",
    "m = np.random.random((3, 4))\n",
    "print(m)"
   ]
  },
  {
   "cell_type": "code",
   "execution_count": 118,
   "id": "a5a77ac4",
   "metadata": {},
   "outputs": [
    {
     "data": {
      "text/plain": [
       "7.478282790980994"
      ]
     },
     "execution_count": 118,
     "metadata": {},
     "output_type": "execute_result"
    }
   ],
   "source": [
    "m.sum()"
   ]
  },
  {
   "cell_type": "code",
   "execution_count": 124,
   "id": "32d55d06",
   "metadata": {},
   "outputs": [
    {
     "data": {
      "text/plain": [
       "array([2.41164943, 2.39890912, 2.66772424])"
      ]
     },
     "execution_count": 124,
     "metadata": {},
     "output_type": "execute_result"
    }
   ],
   "source": [
    "m.sum(axis = 1)"
   ]
  },
  {
   "cell_type": "code",
   "execution_count": 125,
   "id": "39971d79",
   "metadata": {},
   "outputs": [
    {
     "data": {
      "text/plain": [
       "7.478282790980994"
      ]
     },
     "execution_count": 125,
     "metadata": {},
     "output_type": "execute_result"
    }
   ],
   "source": [
    "np.sum(m)"
   ]
  },
  {
   "cell_type": "code",
   "execution_count": 126,
   "id": "9782aac3",
   "metadata": {},
   "outputs": [
    {
     "data": {
      "text/plain": [
       "array([2.41164943, 2.39890912, 2.66772424])"
      ]
     },
     "execution_count": 126,
     "metadata": {},
     "output_type": "execute_result"
    }
   ],
   "source": [
    "np.sum(m, axis = 1)"
   ]
  },
  {
   "cell_type": "code",
   "execution_count": 127,
   "id": "bd245c09",
   "metadata": {},
   "outputs": [
    {
     "data": {
      "text/plain": [
       "array([1.93613106, 1.744525  , 1.83207563, 1.9655511 ])"
      ]
     },
     "execution_count": 127,
     "metadata": {},
     "output_type": "execute_result"
    }
   ],
   "source": [
    "m.sum(axis = 0)"
   ]
  },
  {
   "cell_type": "code",
   "execution_count": 128,
   "id": "d38653d9",
   "metadata": {},
   "outputs": [
    {
     "data": {
      "text/plain": [
       "array([1.93613106, 1.744525  , 1.83207563, 1.9655511 ])"
      ]
     },
     "execution_count": 128,
     "metadata": {},
     "output_type": "execute_result"
    }
   ],
   "source": [
    "np.sum(m, axis = 0)"
   ]
  },
  {
   "cell_type": "markdown",
   "id": "4ce90f9d",
   "metadata": {},
   "source": [
    "\n",
    "[back to top](#Contents)\n",
    "\n",
    "<a id=\"11\"></a> \n",
    "\n",
    "\n",
    "# 11. Concatenating and Splitting Arrays \n",
    "\n",
    "\n",
    "### Concatenating \n",
    "\n",
    "concatention = joining"
   ]
  },
  {
   "cell_type": "code",
   "execution_count": 129,
   "id": "b1b21fa6",
   "metadata": {},
   "outputs": [
    {
     "data": {
      "text/plain": [
       "array([1, 2, 3, 4, 5, 6])"
      ]
     },
     "execution_count": 129,
     "metadata": {},
     "output_type": "execute_result"
    }
   ],
   "source": [
    "x = np.array([1, 2, 3])\n",
    "y = np.array([4, 5, 6])\n",
    "np.concatenate([x, y])"
   ]
  },
  {
   "cell_type": "code",
   "execution_count": 130,
   "id": "faf393c7",
   "metadata": {},
   "outputs": [
    {
     "data": {
      "text/plain": [
       "array([1, 2, 3, 4, 5, 6, 7, 8, 9])"
      ]
     },
     "execution_count": 130,
     "metadata": {},
     "output_type": "execute_result"
    }
   ],
   "source": [
    "z = [7, 8, 9]\n",
    "np.concatenate([x, y, z])"
   ]
  },
  {
   "cell_type": "code",
   "execution_count": 131,
   "id": "81a72cd6",
   "metadata": {},
   "outputs": [
    {
     "data": {
      "text/plain": [
       "array([[1, 2, 3],\n",
       "       [4, 5, 6],\n",
       "       [1, 2, 3],\n",
       "       [4, 5, 6]])"
      ]
     },
     "execution_count": 131,
     "metadata": {},
     "output_type": "execute_result"
    }
   ],
   "source": [
    "# with a subordinate array structure, they stack on bottom, because that is how it is structured\n",
    "\n",
    "grid = np.array([[1, 2, 3],\n",
    "                [4, 5, 6]])\n",
    "np.concatenate([grid, grid])"
   ]
  },
  {
   "cell_type": "code",
   "execution_count": 132,
   "id": "f8cd1d8c",
   "metadata": {},
   "outputs": [
    {
     "data": {
      "text/plain": [
       "array([[7, 8, 9],\n",
       "       [1, 2, 3],\n",
       "       [4, 5, 6]])"
      ]
     },
     "execution_count": 132,
     "metadata": {},
     "output_type": "execute_result"
    }
   ],
   "source": [
    "# can also stack arrays of mixed dimensions \n",
    "\n",
    "x = np.array([7, 8 ,9])\n",
    "np.vstack([x, grid])"
   ]
  },
  {
   "cell_type": "code",
   "execution_count": 133,
   "id": "1c16d026",
   "metadata": {},
   "outputs": [
    {
     "data": {
      "text/plain": [
       "array([[ 1,  2,  3, 99],\n",
       "       [ 4,  5,  6, 99]])"
      ]
     },
     "execution_count": 133,
     "metadata": {},
     "output_type": "execute_result"
    }
   ],
   "source": [
    "# and if they have the same horizontal dimension we can do this:\n",
    "\n",
    "y = np.array([[99],\n",
    "            [99]])\n",
    "np.hstack([grid, y])"
   ]
  },
  {
   "cell_type": "code",
   "execution_count": 135,
   "id": "766997ea",
   "metadata": {},
   "outputs": [],
   "source": [
    "# but this will not work \n",
    "\n",
    "#np.vstack([x, y])"
   ]
  },
  {
   "cell_type": "markdown",
   "id": "015b6b95",
   "metadata": {},
   "source": [
    "### Splitting \n",
    "\n",
    "splitting = opposite of concatenation \n",
    "\n",
    "We use np.split()\n",
    "\n",
    "pass the array and the indices to split "
   ]
  },
  {
   "cell_type": "code",
   "execution_count": 136,
   "id": "f2190e25",
   "metadata": {},
   "outputs": [
    {
     "name": "stdout",
     "output_type": "stream",
     "text": [
      "[0 1 2] [3 4 5 6 7 8 9]\n"
     ]
    }
   ],
   "source": [
    "x= [0,1,2,3,4,5,6,7,8,9]\n",
    "x1, x2 = np.split(x, [3])\n",
    "print(x1, x2)"
   ]
  },
  {
   "cell_type": "code",
   "execution_count": 137,
   "id": "8d2b4047",
   "metadata": {},
   "outputs": [
    {
     "name": "stdout",
     "output_type": "stream",
     "text": [
      "[0 1 2] [3 4] [5 6 7 8 9]\n"
     ]
    }
   ],
   "source": [
    "x3, x4, x5 = np.split(x, [3, 5])\n",
    "print(x3, x4, x5)"
   ]
  },
  {
   "cell_type": "markdown",
   "id": "71cce730",
   "metadata": {},
   "source": [
    "We can also split vertically or horizontally "
   ]
  },
  {
   "cell_type": "code",
   "execution_count": 138,
   "id": "a516cde9",
   "metadata": {},
   "outputs": [
    {
     "data": {
      "text/plain": [
       "array([[ 0,  1,  2,  3],\n",
       "       [ 4,  5,  6,  7],\n",
       "       [ 8,  9, 10, 11],\n",
       "       [12, 13, 14, 15]])"
      ]
     },
     "execution_count": 138,
     "metadata": {},
     "output_type": "execute_result"
    }
   ],
   "source": [
    "grid = np.arange(16).reshape((4, 4))\n",
    "grid"
   ]
  },
  {
   "cell_type": "code",
   "execution_count": 139,
   "id": "80ba69fc",
   "metadata": {},
   "outputs": [
    {
     "name": "stdout",
     "output_type": "stream",
     "text": [
      "[[0 1 2 3]\n",
      " [4 5 6 7]]\n"
     ]
    }
   ],
   "source": [
    "upper, lower = np.vsplit(grid, [2])\n",
    "print(upper)"
   ]
  },
  {
   "cell_type": "code",
   "execution_count": 140,
   "id": "8148ccac",
   "metadata": {},
   "outputs": [
    {
     "name": "stdout",
     "output_type": "stream",
     "text": [
      "[[ 8  9 10 11]\n",
      " [12 13 14 15]]\n"
     ]
    }
   ],
   "source": [
    "print(lower)"
   ]
  },
  {
   "cell_type": "code",
   "execution_count": 141,
   "id": "5530548a",
   "metadata": {},
   "outputs": [
    {
     "name": "stdout",
     "output_type": "stream",
     "text": [
      "[[ 0  1]\n",
      " [ 4  5]\n",
      " [ 8  9]\n",
      " [12 13]]\n"
     ]
    }
   ],
   "source": [
    "left, right = np.hsplit(grid, [2])\n",
    "print(left)"
   ]
  },
  {
   "cell_type": "code",
   "execution_count": 142,
   "id": "8f444bd3",
   "metadata": {},
   "outputs": [
    {
     "name": "stdout",
     "output_type": "stream",
     "text": [
      "[[ 2  3]\n",
      " [ 6  7]\n",
      " [10 11]\n",
      " [14 15]]\n"
     ]
    }
   ],
   "source": [
    "print(right)"
   ]
  },
  {
   "cell_type": "markdown",
   "id": "4cf1e49c",
   "metadata": {},
   "source": [
    "\n",
    "[back to top](#Contents)\n",
    "\n",
    "<a id=\"12\"></a> \n",
    "\n",
    "# 12. UFuncs\n",
    "\n",
    "\n",
    "Analyzing arrays with Python = very slow, python is flexible which makes it slow\n",
    "\n",
    "NumPy speeds it up \n",
    "\n",
    "provides vectorized operations through universal functions, UFuncs\n",
    "\n",
    "lets see how slow loops can be by computing reciprocals two ways \n",
    "\n"
   ]
  },
  {
   "cell_type": "code",
   "execution_count": 143,
   "id": "aacc9998",
   "metadata": {},
   "outputs": [
    {
     "name": "stdout",
     "output_type": "stream",
     "text": [
      "[9 2 6 9 5]\n"
     ]
    },
    {
     "data": {
      "text/plain": [
       "array([0.11111111, 0.5       , 0.16666667, 0.11111111, 0.2       ])"
      ]
     },
     "execution_count": 143,
     "metadata": {},
     "output_type": "execute_result"
    }
   ],
   "source": [
    "\n",
    "\n",
    "def compute_reciprocals(values):\n",
    "    output = np.empty(len(values))\n",
    "    for i in range(len(values)):\n",
    "        output[i] = 1.0 / values [i]\n",
    "    return output\n",
    "\n",
    "values = np.random.randint(1, 10, size = 5)\n",
    "print(values)\n",
    "compute_reciprocals(values)\n",
    "        "
   ]
  },
  {
   "cell_type": "code",
   "execution_count": 146,
   "id": "bcfff29d",
   "metadata": {},
   "outputs": [
    {
     "name": "stdout",
     "output_type": "stream",
     "text": [
      "24.5 ms ± 693 µs per loop (mean ± std. dev. of 7 runs, 10 loops each)\n"
     ]
    }
   ],
   "source": [
    "big_array = np.random.randint(1 ,100, size = 10000)\n",
    "%timeit compute_reciprocals(big_array)"
   ]
  },
  {
   "cell_type": "code",
   "execution_count": 147,
   "id": "9085d621",
   "metadata": {},
   "outputs": [
    {
     "name": "stdout",
     "output_type": "stream",
     "text": [
      "[0.11111111 0.5        0.16666667 0.11111111 0.2       ]\n",
      "[0.11111111 0.5        0.16666667 0.11111111 0.2       ]\n",
      "24.7 µs ± 1.38 µs per loop (mean ± std. dev. of 7 runs, 10,000 loops each)\n"
     ]
    }
   ],
   "source": [
    "# Now using a ufunc\n",
    "\n",
    "print(compute_reciprocals(values))\n",
    "print(1.0 / values)\n",
    "%timeit (1.0 / big_array)"
   ]
  },
  {
   "cell_type": "markdown",
   "id": "1624e3f9",
   "metadata": {},
   "source": [
    "The Ufunc is much faster!\n",
    "\n",
    "When Python runs a loop on an array, it checks the type of each element and looks up what function to use for that variable\n",
    "\n",
    "When ufuncs are used, each item in the array has the same operation applied to it- no need to check the type\n",
    "\n",
    "What unfucs do is much closer to faster, compiled code than to the classic Python interpreter"
   ]
  },
  {
   "cell_type": "markdown",
   "id": "519636ee",
   "metadata": {},
   "source": [
    "\n",
    "[back to top](#Contents)\n",
    "\n",
    "<a id=\"13\"></a> \n",
    "\n",
    "# 13. Fancy Indexing \n",
    "\n",
    "We have already indexed in a few ways \n",
    "\n"
   ]
  },
  {
   "cell_type": "code",
   "execution_count": 148,
   "id": "27b40945",
   "metadata": {},
   "outputs": [
    {
     "name": "stdout",
     "output_type": "stream",
     "text": [
      "[51 92 14 71 60 20 82 86 74 74]\n"
     ]
    }
   ],
   "source": [
    "\n",
    "rand = np.random.RandomState(42)\n",
    "\n",
    "x = rand.randint(100, size = 10)\n",
    "print(x)"
   ]
  },
  {
   "cell_type": "code",
   "execution_count": 149,
   "id": "cc759655",
   "metadata": {},
   "outputs": [
    {
     "name": "stdout",
     "output_type": "stream",
     "text": [
      "51\n",
      "74\n",
      "[20 82 86 74 74]\n"
     ]
    }
   ],
   "source": [
    "print(x[0])\n",
    "print(x[-1])\n",
    "print(x[5:])"
   ]
  },
  {
   "cell_type": "markdown",
   "id": "fb9acec1",
   "metadata": {},
   "source": [
    "### New ways!"
   ]
  },
  {
   "cell_type": "code",
   "execution_count": 150,
   "id": "9bf7836a",
   "metadata": {},
   "outputs": [
    {
     "data": {
      "text/plain": [
       "[71, 86, 14]"
      ]
     },
     "execution_count": 150,
     "metadata": {},
     "output_type": "execute_result"
    }
   ],
   "source": [
    "[x[3], x[7], x[2]]"
   ]
  },
  {
   "cell_type": "code",
   "execution_count": 152,
   "id": "d816a9eb",
   "metadata": {},
   "outputs": [
    {
     "data": {
      "text/plain": [
       "array([71, 86, 14])"
      ]
     },
     "execution_count": 152,
     "metadata": {},
     "output_type": "execute_result"
    }
   ],
   "source": [
    "ind = [3, 7 ,2]\n",
    "x[ind]"
   ]
  },
  {
   "cell_type": "code",
   "execution_count": 154,
   "id": "2191b875",
   "metadata": {},
   "outputs": [
    {
     "data": {
      "text/plain": [
       "array([[71, 86],\n",
       "       [14, 20]])"
      ]
     },
     "execution_count": 154,
     "metadata": {},
     "output_type": "execute_result"
    }
   ],
   "source": [
    "#When we use fancy indexing, we can also change the shape of the index\n",
    "#The key is having square brackets following an object\n",
    "\n",
    "\n",
    "ind = np.array([[3, 7],\n",
    "               [2, 5]])\n",
    "y = x[ind]\n",
    "y"
   ]
  },
  {
   "cell_type": "code",
   "execution_count": 155,
   "id": "c69b37ff",
   "metadata": {},
   "outputs": [
    {
     "name": "stdout",
     "output_type": "stream",
     "text": [
      "[10 73 99 84 79 80 62 25  1 75 77 57 26 33 68 33  8  2 76 84]\n"
     ]
    }
   ],
   "source": [
    "rand=np.random.RandomState(6)\n",
    "j=rand.randint(100, size = 20)\n",
    "print(j)"
   ]
  },
  {
   "cell_type": "code",
   "execution_count": 156,
   "id": "0580e5f5",
   "metadata": {},
   "outputs": [
    {
     "data": {
      "text/plain": [
       "[84, 57]"
      ]
     },
     "execution_count": 156,
     "metadata": {},
     "output_type": "execute_result"
    }
   ],
   "source": [
    "[j[3], j[11]]"
   ]
  },
  {
   "cell_type": "code",
   "execution_count": 157,
   "id": "29229d1a",
   "metadata": {},
   "outputs": [
    {
     "data": {
      "text/plain": [
       "array([84, 57])"
      ]
     },
     "execution_count": 157,
     "metadata": {},
     "output_type": "execute_result"
    }
   ],
   "source": [
    "ind = [3, 11]\n",
    "j[ind]"
   ]
  },
  {
   "cell_type": "code",
   "execution_count": 158,
   "id": "26adfc9e",
   "metadata": {},
   "outputs": [
    {
     "data": {
      "text/plain": [
       "array([[84, 57],\n",
       "       [76, 25]])"
      ]
     },
     "execution_count": 158,
     "metadata": {},
     "output_type": "execute_result"
    }
   ],
   "source": [
    "ind = np.array([[3, 11],\n",
    "               [-2, 7]])\n",
    "j[ind]"
   ]
  },
  {
   "cell_type": "markdown",
   "id": "aab00ab1",
   "metadata": {},
   "source": [
    "### Combined Indexing\n",
    "\n",
    "we can combine multiple aspects of indexing "
   ]
  },
  {
   "cell_type": "code",
   "execution_count": 159,
   "id": "115ccb9b",
   "metadata": {},
   "outputs": [
    {
     "data": {
      "text/plain": [
       "array([[ 0,  1,  2,  3],\n",
       "       [ 4,  5,  6,  7],\n",
       "       [ 8,  9, 10, 11]])"
      ]
     },
     "execution_count": 159,
     "metadata": {},
     "output_type": "execute_result"
    }
   ],
   "source": [
    "X = np.arange(12).reshape ((3, 4))\n",
    "X"
   ]
  },
  {
   "cell_type": "code",
   "execution_count": 160,
   "id": "c868727f",
   "metadata": {},
   "outputs": [
    {
     "data": {
      "text/plain": [
       "array([10,  8,  9])"
      ]
     },
     "execution_count": 160,
     "metadata": {},
     "output_type": "execute_result"
    }
   ],
   "source": [
    "# finds second array and then indexes 2, 0, 1\n",
    "X[2, [2, 0, 1]]\n"
   ]
  },
  {
   "cell_type": "code",
   "execution_count": 161,
   "id": "a5762edc",
   "metadata": {},
   "outputs": [
    {
     "data": {
      "text/plain": [
       "array([[ 6,  4,  5],\n",
       "       [10,  8,  9]])"
      ]
     },
     "execution_count": 161,
     "metadata": {},
     "output_type": "execute_result"
    }
   ],
   "source": [
    "X[1:, [2, 0, 1]]"
   ]
  },
  {
   "cell_type": "markdown",
   "id": "22caef38",
   "metadata": {},
   "source": [
    "\n",
    "[back to top](#Contents)\n",
    "\n",
    "<a id=\"14\"></a> \n",
    "\n",
    "# 14.  Sorting Arrays\n",
    "\n",
    "Python has built-in sorting functions, but they're not as efficient as NumPy\n"
   ]
  },
  {
   "cell_type": "code",
   "execution_count": 162,
   "id": "6b492324",
   "metadata": {},
   "outputs": [
    {
     "data": {
      "text/plain": [
       "array([1, 2, 3, 4, 5])"
      ]
     },
     "execution_count": 162,
     "metadata": {},
     "output_type": "execute_result"
    }
   ],
   "source": [
    "# numpy sort function\n",
    "\n",
    "x = np.array([2, 1, 4, 3, 5])\n",
    "\n",
    "np.sort(x)"
   ]
  },
  {
   "cell_type": "code",
   "execution_count": 163,
   "id": "aaec471b",
   "metadata": {},
   "outputs": [
    {
     "name": "stdout",
     "output_type": "stream",
     "text": [
      "[1 2 3 4 5]\n"
     ]
    }
   ],
   "source": [
    "# python sort method\n",
    "\n",
    "x.sort()\n",
    "print(x)"
   ]
  },
  {
   "cell_type": "markdown",
   "id": "16f3f397",
   "metadata": {},
   "source": [
    "### Sorting rows or columns \n",
    "\n",
    "the axis argument lets us sort columns or rows\n",
    "\n",
    "axis = 0, sorts by columns\n",
    "\n",
    "axis = 1, sorts by rows "
   ]
  },
  {
   "cell_type": "code",
   "execution_count": 169,
   "id": "73b1c967",
   "metadata": {},
   "outputs": [
    {
     "name": "stdout",
     "output_type": "stream",
     "text": [
      "[[6 3 7 4 6 9]\n",
      " [2 6 7 4 3 7]\n",
      " [7 2 5 4 1 7]\n",
      " [5 1 4 0 9 5]]\n"
     ]
    }
   ],
   "source": [
    "rand = np.random.RandomState(42)\n",
    "X =rand.randint(0, 10, (4, 6))\n",
    "print(X)"
   ]
  },
  {
   "cell_type": "code",
   "execution_count": 170,
   "id": "1676b236",
   "metadata": {},
   "outputs": [
    {
     "data": {
      "text/plain": [
       "array([[2, 1, 4, 0, 1, 5],\n",
       "       [5, 2, 5, 4, 3, 7],\n",
       "       [6, 3, 7, 4, 6, 7],\n",
       "       [7, 6, 7, 4, 9, 9]])"
      ]
     },
     "execution_count": 170,
     "metadata": {},
     "output_type": "execute_result"
    }
   ],
   "source": [
    "np.sort(X, axis = 0)"
   ]
  },
  {
   "cell_type": "code",
   "execution_count": 171,
   "id": "4166bfb2",
   "metadata": {},
   "outputs": [
    {
     "data": {
      "text/plain": [
       "array([[3, 4, 6, 6, 7, 9],\n",
       "       [2, 3, 4, 6, 7, 7],\n",
       "       [1, 2, 4, 5, 7, 7],\n",
       "       [0, 1, 4, 5, 5, 9]])"
      ]
     },
     "execution_count": 171,
     "metadata": {},
     "output_type": "execute_result"
    }
   ],
   "source": [
    "np.sort (X, axis = 1)"
   ]
  },
  {
   "cell_type": "markdown",
   "id": "4a22bf5a",
   "metadata": {},
   "source": [
    "[back to top](#Contents)\n",
    "\n",
    "<a id=\"15\"></a> \n",
    "\n",
    "# 15. Dictionaries \n",
    "\n",
    "Another basic Python data structure \n",
    "\n",
    "What is a dictionary- as in the book/webpage?\n",
    "\n",
    "Word + definition \n",
    "\n",
    "in Python dictionary they are referred to as key:vlaue pairs\n",
    "\n",
    "Dicionaries are created using curly braces {} and colons :\n",
    "\n",
    "Addtional key:value pairs can be added with commas"
   ]
  },
  {
   "cell_type": "code",
   "execution_count": 177,
   "id": "046d9741",
   "metadata": {},
   "outputs": [
    {
     "data": {
      "text/plain": [
       "{'name': 'Scott'}"
      ]
     },
     "execution_count": 177,
     "metadata": {},
     "output_type": "execute_result"
    }
   ],
   "source": [
    "dict_1 = {\n",
    "    \"name\": \"Scott\"\n",
    "}\n",
    "\n",
    "dict_1"
   ]
  },
  {
   "cell_type": "code",
   "execution_count": 173,
   "id": "661da14a",
   "metadata": {},
   "outputs": [
    {
     "data": {
      "text/plain": [
       "{'amount': 1}"
      ]
     },
     "execution_count": 173,
     "metadata": {},
     "output_type": "execute_result"
    }
   ],
   "source": [
    "dict_2= {\n",
    "    \"amount\": 1\n",
    "}\n",
    "dict_2"
   ]
  },
  {
   "cell_type": "code",
   "execution_count": 178,
   "id": "a3ec42ea",
   "metadata": {},
   "outputs": [
    {
     "data": {
      "text/plain": [
       "{'name': 'Scott', 'age': 34}"
      ]
     },
     "execution_count": 178,
     "metadata": {},
     "output_type": "execute_result"
    }
   ],
   "source": [
    "dict_3 = {\n",
    "    \"name\": \"Scott\", \n",
    "    \"age\": 34\n",
    "}\n",
    "dict_3"
   ]
  },
  {
   "cell_type": "markdown",
   "id": "8bce4e4d",
   "metadata": {},
   "source": [
    "You can index dictionaries with the key, not with the numerical index\n",
    "\n",
    "to add a value, simply specify the key and the value \n",
    "\n",
    "to delete an entry use the del() funtion \n",
    "\n",
    "We can update a value by referring to the key's name "
   ]
  },
  {
   "cell_type": "code",
   "execution_count": 179,
   "id": "dd71d136",
   "metadata": {},
   "outputs": [
    {
     "data": {
      "text/plain": [
       "'Scott'"
      ]
     },
     "execution_count": 179,
     "metadata": {},
     "output_type": "execute_result"
    }
   ],
   "source": [
    "dict_3[\"name\"]"
   ]
  },
  {
   "cell_type": "code",
   "execution_count": 180,
   "id": "93a625f2",
   "metadata": {},
   "outputs": [
    {
     "data": {
      "text/plain": [
       "{'name': 'Scott', 'age': 34, 'Univeristy': 'Eastern University'}"
      ]
     },
     "execution_count": 180,
     "metadata": {},
     "output_type": "execute_result"
    }
   ],
   "source": [
    "dict_3[\"Univeristy\"] = \"Eastern University\"\n",
    "dict_3"
   ]
  },
  {
   "cell_type": "code",
   "execution_count": 181,
   "id": "1d3507f5",
   "metadata": {},
   "outputs": [
    {
     "data": {
      "text/plain": [
       "{'name': 'Scott', 'age': 34}"
      ]
     },
     "execution_count": 181,
     "metadata": {},
     "output_type": "execute_result"
    }
   ],
   "source": [
    "del(dict_3[\"Univeristy\"])\n",
    "dict_3"
   ]
  },
  {
   "cell_type": "code",
   "execution_count": 182,
   "id": "5b8fed94",
   "metadata": {},
   "outputs": [
    {
     "data": {
      "text/plain": [
       "{'name': 'Scott', 'age': 34, 'University': 'Eastern University'}"
      ]
     },
     "execution_count": 182,
     "metadata": {},
     "output_type": "execute_result"
    }
   ],
   "source": [
    "dict_3[\"University\"] = \"Eastern\"\n",
    "\n",
    "dict_3[\"University\"] = \"Eastern University\"\n",
    "dict_3"
   ]
  },
  {
   "cell_type": "markdown",
   "id": "a39d6cc1",
   "metadata": {},
   "source": [
    "\n",
    "### Looping through dicionaries \n",
    "\n",
    "If you loop through a dictionary, it goes by keys\n"
   ]
  },
  {
   "cell_type": "code",
   "execution_count": 183,
   "id": "a2f403f7",
   "metadata": {},
   "outputs": [
    {
     "name": "stdout",
     "output_type": "stream",
     "text": [
      "name\n",
      "age\n",
      "University\n"
     ]
    }
   ],
   "source": [
    "for i in dict_3:\n",
    "    print(i)"
   ]
  },
  {
   "cell_type": "code",
   "execution_count": 184,
   "id": "f3aa92a5",
   "metadata": {},
   "outputs": [
    {
     "name": "stdout",
     "output_type": "stream",
     "text": [
      "Scott\n",
      "34\n",
      "Eastern University\n"
     ]
    }
   ],
   "source": [
    "#To loop through values, you can index them or use the values method\n",
    "\n",
    "for i in dict_3:\n",
    "    print(dict_3[i])"
   ]
  },
  {
   "cell_type": "markdown",
   "id": "84e3c6bc",
   "metadata": {},
   "source": [
    "### Nested dictionaries \n",
    "\n",
    "dictionaries within dictionaries "
   ]
  },
  {
   "cell_type": "code",
   "execution_count": 185,
   "id": "83d7b872",
   "metadata": {},
   "outputs": [
    {
     "data": {
      "text/plain": [
       "{'father': {'name': 'Greg', 'age': 35},\n",
       " 'mother': {'name': 'Heather', 'age': 33},\n",
       " 'daughter1': {'name': 'Mary', 'age': 12}}"
      ]
     },
     "execution_count": 185,
     "metadata": {},
     "output_type": "execute_result"
    }
   ],
   "source": [
    "family = {\n",
    "    'father': {\n",
    "        'name': 'Greg',\n",
    "        'age' : 35\n",
    "    },\n",
    "    'mother': {\n",
    "        'name':'Heather',\n",
    "        'age': 33\n",
    "    },\n",
    "    'daughter1': {\n",
    "        'name': 'Mary',\n",
    "        'age' : 12\n",
    "    }\n",
    "    \n",
    "} \n",
    "\n",
    "family"
   ]
  },
  {
   "cell_type": "markdown",
   "id": "28c513aa",
   "metadata": {},
   "source": [
    "[back to top](#Contents)\n",
    "\n",
    "<a id=\"16\"></a> \n",
    "\n",
    "# 16. NumPy and Structured Arrays\n",
    "\n",
    "Sometimes data are not homogenous \n",
    "\n",
    "Numpy arrays normally only hold a single data type.  Structured arrays give us more flexibility.\n"
   ]
  },
  {
   "cell_type": "code",
   "execution_count": 186,
   "id": "32546a07",
   "metadata": {},
   "outputs": [],
   "source": [
    "name = ['Manute Bol', \"Shaquille O'Neil\", 'Michael Jordan', 'Muggsy Bogues']\n",
    "height = [91, 85, 78, 63]\n",
    "weight = [201.0, 324.0, 216.0, 134.0]"
   ]
  },
  {
   "cell_type": "code",
   "execution_count": 187,
   "id": "42e84cc4",
   "metadata": {},
   "outputs": [
    {
     "name": "stdout",
     "output_type": "stream",
     "text": [
      "[('name', '<U20'), ('height', '<i4'), ('weight', '<f8')]\n"
     ]
    }
   ],
   "source": [
    "data = np.zeros(4, dtype = {'names':('name', 'height', 'weight'),\n",
    "                           'formats': ('U20', 'i4', 'f8')})\n",
    "print(data.dtype)"
   ]
  },
  {
   "cell_type": "markdown",
   "id": "9b0f9823",
   "metadata": {},
   "source": [
    "we're going to need to learn data types\n",
    "\n",
    "U20 = unicode string length 20\n",
    "\n",
    "i4 = 4-byte integer\n",
    "\n",
    "f8 = 8-byte float"
   ]
  },
  {
   "cell_type": "code",
   "execution_count": 188,
   "id": "9fb02aeb",
   "metadata": {},
   "outputs": [
    {
     "name": "stdout",
     "output_type": "stream",
     "text": [
      "[('Manute Bol', 91, 201.) (\"Shaquille O'Neil\", 85, 324.)\n",
      " ('Michael Jordan', 78, 216.) ('Muggsy Bogues', 63, 134.)]\n"
     ]
    }
   ],
   "source": [
    "data['name'] = name\n",
    "data['height'] = height\n",
    "data['weight'] = weight\n",
    "print(data)"
   ]
  },
  {
   "cell_type": "markdown",
   "id": "25db548b",
   "metadata": {},
   "source": [
    "Now we can index rows and columns"
   ]
  },
  {
   "cell_type": "code",
   "execution_count": 189,
   "id": "ece29ec8",
   "metadata": {},
   "outputs": [
    {
     "name": "stdout",
     "output_type": "stream",
     "text": [
      "['Manute Bol' \"Shaquille O'Neil\" 'Michael Jordan' 'Muggsy Bogues']\n",
      "('Manute Bol', 91, 201.)\n"
     ]
    }
   ],
   "source": [
    "print(data['name'])\n",
    "print(data[0])"
   ]
  },
  {
   "cell_type": "code",
   "execution_count": 190,
   "id": "5d0f4a00",
   "metadata": {},
   "outputs": [
    {
     "data": {
      "text/plain": [
       "array([(\"Shaquille O'Neil\", 85, 324.), ('Michael Jordan', 78, 216.)],\n",
       "      dtype=[('name', '<U20'), ('height', '<i4'), ('weight', '<f8')])"
      ]
     },
     "execution_count": 190,
     "metadata": {},
     "output_type": "execute_result"
    }
   ],
   "source": [
    "data[data['weight'] > 215]"
   ]
  },
  {
   "cell_type": "code",
   "execution_count": 192,
   "id": "2c6e5f76",
   "metadata": {},
   "outputs": [
    {
     "name": "stdout",
     "output_type": "stream",
     "text": [
      "[('Tombstone', 1993, 4.5) ('Batman Forever', 1995, 5. )\n",
      " ('Willow', 1988, 4. )]\n"
     ]
    }
   ],
   "source": [
    "# another example \n",
    "\n",
    "data = np.zeros(3, dtype = {'names':('movie', 'release', 'stars'),\n",
    "                           'formats': ('U20', 'i4', 'f8')})\n",
    "movie = ['Tombstone', 'Batman Forever', 'Willow']\n",
    "release = [1993, 1995, 1988]\n",
    "stars = [4.5, 5.0, 4.0]\n",
    "\n",
    "data['movie'] = movie\n",
    "data['release'] = release\n",
    "data['stars']= stars \n",
    "\n",
    "print(data)"
   ]
  },
  {
   "cell_type": "code",
   "execution_count": null,
   "id": "5238ce53",
   "metadata": {},
   "outputs": [],
   "source": []
  }
 ],
 "metadata": {
  "kernelspec": {
   "display_name": "Python 3 (ipykernel)",
   "language": "python",
   "name": "python3"
  },
  "language_info": {
   "codemirror_mode": {
    "name": "ipython",
    "version": 3
   },
   "file_extension": ".py",
   "mimetype": "text/x-python",
   "name": "python",
   "nbconvert_exporter": "python",
   "pygments_lexer": "ipython3",
   "version": "3.9.16"
  }
 },
 "nbformat": 4,
 "nbformat_minor": 5
}
