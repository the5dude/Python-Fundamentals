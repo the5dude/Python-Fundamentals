{
 "cells": [
  {
   "cell_type": "markdown",
   "id": "cd44bcb7",
   "metadata": {},
   "source": [
    "# Python Basics\n",
    "\n",
    "## By Scott Parr"
   ]
  },
  {
   "cell_type": "markdown",
   "id": "cb960337",
   "metadata": {},
   "source": [
    "<a id=\"0\"></a> <br>\n",
    " # Contents  \n",
    "\n",
    "1. [Variables](#1)\n",
    "1. [Numbers](#2)\n",
    "1. [Comments](#3)\n",
    "1. [Indentation](#4)\n",
    "1. [Operators and Expressions](#5)\n",
    "1. [Strings](#6)\n",
    "1. [Lists](#7)\n",
    "1. [Loops](#8)\n",
    "1. [Functions](#9)\n",
    "1. [Packages](#10)\n",
    "1. [Print vs Return](#11)"
   ]
  },
  {
   "cell_type": "markdown",
   "id": "5323ea33",
   "metadata": {},
   "source": [
    "<a id=\"1\"></a> \n",
    "# 1.  Variables\n",
    "\n",
    "\n",
    "Variables are things that stand in for something else.  In the following example we use a simple function: dogyears() which calculates your age in dog years.  Here, 'age' is a variable.  It has bean assigned to something else.  We could change the variable name, but it would still represent the same value it has been assigned to.  'dy' is also a variable. "
   ]
  },
  {
   "cell_type": "code",
   "execution_count": 1,
   "id": "af6ca331",
   "metadata": {},
   "outputs": [
    {
     "name": "stdout",
     "output_type": "stream",
     "text": [
      "what is your age? 12\n",
      "Your age is 84.0 dog years\n"
     ]
    }
   ],
   "source": [
    "def dogyears():\n",
    "    age = float(input(\"what is your age? \"))\n",
    "    #dog years = human years * 7\n",
    "    dy = age * 7\n",
    "    print(\"Your age is\", dy, \"dog years\")\n",
    "    \n",
    "dogyears()"
   ]
  },
  {
   "cell_type": "markdown",
   "id": "efd7c11f",
   "metadata": {},
   "source": [
    "### More Variable Examples \n",
    "\n"
   ]
  },
  {
   "cell_type": "code",
   "execution_count": 2,
   "id": "927e48dd",
   "metadata": {},
   "outputs": [],
   "source": [
    "a= 1\n",
    "\n",
    "b= 2.0\n",
    "\n",
    "y = 'Hello'"
   ]
  },
  {
   "cell_type": "code",
   "execution_count": 3,
   "id": "b04ec0ae",
   "metadata": {},
   "outputs": [
    {
     "name": "stdout",
     "output_type": "stream",
     "text": [
      "1\n",
      "2.0\n",
      "Hello\n",
      "1 2.0 Hello\n",
      "a * b =  2.0\n"
     ]
    }
   ],
   "source": [
    "# we can print the variables individually, or all together\n",
    "# we can also print a string with a following operation using the other variables \n",
    "\n",
    "print(a)\n",
    "print(b)\n",
    "print(y)\n",
    "print(a, b, y)\n",
    "print(\"a * b = \", a * b)"
   ]
  },
  {
   "cell_type": "code",
   "execution_count": 4,
   "id": "56dbc012",
   "metadata": {},
   "outputs": [
    {
     "name": "stdout",
     "output_type": "stream",
     "text": [
      "<class 'int'>\n",
      "<class 'float'>\n",
      "<class 'str'>\n"
     ]
    }
   ],
   "source": [
    "#we can print the variable data type too\n",
    "\n",
    "print(type(a))\n",
    "print(type(b))\n",
    "print(type(y))"
   ]
  },
  {
   "cell_type": "markdown",
   "id": "b8d892ad",
   "metadata": {},
   "source": [
    "### Some Specifics On Variable Naming\n",
    "\n",
    "Names or identifiers have to begin with letters or underscores.  Case sensitive.  \n",
    "\n",
    "Names are case sensitive\n",
    "\n",
    "Names with multiple words must be connected with without spaces\n",
    "\n",
    "    x = 1\n",
    "    celcius = 2\n",
    "    cow = 3\n",
    "    Cow = 12\n",
    "    DoG = 4\n",
    "    DOG = 5\n",
    "    dog = 6\n",
    "    \n",
    "Names with multiple words must be connected without spaces.  Some common methods are:\n",
    "\n",
    "    myfriend = \"James\"\n",
    "    MyFriend = \"James\"\n",
    "    my_friend = \"James\"\n",
    "    my.friend = \"James\"\n",
    "\n",
    "Specifying a variable's value is called assignment\n",
    "\n",
    "Assignments can be repeated, but they will be updated to the latest specification"
   ]
  },
  {
   "cell_type": "code",
   "execution_count": 5,
   "id": "170edea2",
   "metadata": {},
   "outputs": [],
   "source": [
    "x = 1\n",
    "x = 2"
   ]
  },
  {
   "cell_type": "markdown",
   "id": "f53af031",
   "metadata": {},
   "source": [
    "If you don't get an error, things worked\n",
    "\n",
    "However, you don't see your variable value unless you ask for it"
   ]
  },
  {
   "cell_type": "code",
   "execution_count": 6,
   "id": "4614296a",
   "metadata": {},
   "outputs": [
    {
     "data": {
      "text/plain": [
       "2"
      ]
     },
     "execution_count": 6,
     "metadata": {},
     "output_type": "execute_result"
    }
   ],
   "source": [
    "x"
   ]
  },
  {
   "cell_type": "markdown",
   "id": "e936c720",
   "metadata": {},
   "source": [
    "We can then use this variable as a substitute for the value  "
   ]
  },
  {
   "cell_type": "code",
   "execution_count": 7,
   "id": "ab1108ed",
   "metadata": {},
   "outputs": [
    {
     "data": {
      "text/plain": [
       "10"
      ]
     },
     "execution_count": 7,
     "metadata": {},
     "output_type": "execute_result"
    }
   ],
   "source": [
    "x * 5"
   ]
  },
  {
   "cell_type": "markdown",
   "id": "7c3fb281",
   "metadata": {},
   "source": [
    "And we can also assign new variable from old"
   ]
  },
  {
   "cell_type": "code",
   "execution_count": 8,
   "id": "78b0a463",
   "metadata": {},
   "outputs": [
    {
     "data": {
      "text/plain": [
       "8"
      ]
     },
     "execution_count": 8,
     "metadata": {},
     "output_type": "execute_result"
    }
   ],
   "source": [
    "y = x ** 3\n",
    "y"
   ]
  },
  {
   "cell_type": "markdown",
   "id": "dc8df8de",
   "metadata": {},
   "source": [
    "There are a small number of words that are reserved and cannot be used.  They will appear green in Jupyter, blue in colab, and the result will produce an error "
   ]
  },
  {
   "cell_type": "code",
   "execution_count": 96,
   "id": "3d099dd0",
   "metadata": {},
   "outputs": [],
   "source": [
    "#False = 6"
   ]
  },
  {
   "cell_type": "code",
   "execution_count": 97,
   "id": "b95793cf",
   "metadata": {},
   "outputs": [],
   "source": [
    "#try = 7"
   ]
  },
  {
   "cell_type": "markdown",
   "id": "3e5bd8f0",
   "metadata": {},
   "source": [
    "[back to top](#Contents)\n",
    "\n",
    "<a id=\"2\"></a> \n",
    "# 2. Numbers\n",
    "\n",
    "The above function takes in an integer value, and outputs a float value.  \n",
    "\n",
    "Floats(floating point numbers): Floats are numbers with decimal places.\n",
    "\n",
    "    Example: 12.0, 1.41, 200.21567, 12.5\n",
    "    \n",
    "    \n",
    "\n",
    "Integers:  Integers are numbers without decimal places.   \n",
    "\n",
    "    Example:  12, 3,  412, 6000, 1,000,000"
   ]
  },
  {
   "cell_type": "code",
   "execution_count": 13,
   "id": "a898bbdf",
   "metadata": {},
   "outputs": [
    {
     "data": {
      "text/plain": [
       "1.41"
      ]
     },
     "execution_count": 13,
     "metadata": {},
     "output_type": "execute_result"
    }
   ],
   "source": [
    "1.41"
   ]
  },
  {
   "cell_type": "code",
   "execution_count": 14,
   "id": "a22c62fa",
   "metadata": {},
   "outputs": [
    {
     "data": {
      "text/plain": [
       "3"
      ]
     },
     "execution_count": 14,
     "metadata": {},
     "output_type": "execute_result"
    }
   ],
   "source": [
    "3"
   ]
  },
  {
   "cell_type": "markdown",
   "id": "91c4ae89",
   "metadata": {},
   "source": [
    "[back to top](#Contents)\n",
    "\n",
    "<a id=\"3\"></a>\n",
    "\n",
    "# 3. Comments\n",
    "\n",
    "comment: in a code cell, text to the right of a \"#\" sign that is not included in the program and allows users to make notes to themselves or \"comment out\" parts of a program function.\n",
    "\n",
    "In our dogyears calculator function, we see a comment that simply shares a piece of information: That dog years are equal to human years multiplied by 7.  "
   ]
  },
  {
   "cell_type": "markdown",
   "id": "4c652425",
   "metadata": {},
   "source": [
    "def dogyears():\n",
    "\n",
    "    age = float(input(\"what is your age? \"))\n",
    "    \n",
    "    #dog years = human years * 7\n",
    "    \n",
    "    dy = age * 7\n",
    "    \n",
    "    print(\"Your age is\", dy, \"dog years\")\n",
    "    \n",
    "dogyears()"
   ]
  },
  {
   "cell_type": "markdown",
   "id": "c85b8c2a",
   "metadata": {},
   "source": [
    "[back to top](#Contents)\n",
    "\n",
    "<a id=\"4\"></a>\n",
    "\n",
    "# 4. Indentation\n",
    "\n",
    "Indentation is important for a function to work correctly.  In the following example, a new line followed by an indentation, indicates that it is part of the previous portion.   \n",
    "\n",
    "First we define our function name\n",
    "\n",
    "    then we indicate the functions first step (a loop)\n",
    "    \n",
    "        then we indicate a calculation and output throughout the loop"
   ]
  },
  {
   "cell_type": "code",
   "execution_count": 16,
   "id": "a2076e4a",
   "metadata": {},
   "outputs": [],
   "source": [
    "def exponent():\n",
    "    for i in range(10):\n",
    "        print(i**(i + 1))"
   ]
  },
  {
   "cell_type": "code",
   "execution_count": 17,
   "id": "3144c455",
   "metadata": {},
   "outputs": [
    {
     "name": "stdout",
     "output_type": "stream",
     "text": [
      "0\n",
      "1\n",
      "8\n",
      "81\n",
      "1024\n",
      "15625\n",
      "279936\n",
      "5764801\n",
      "134217728\n",
      "3486784401\n"
     ]
    }
   ],
   "source": [
    "exponent()"
   ]
  },
  {
   "cell_type": "markdown",
   "id": "afd3788e",
   "metadata": {},
   "source": [
    "[back to top](#Contents)\n",
    "\n",
    "<a id=\"5\"></a>\n",
    "\n",
    "# 5. Operators and Expressions\n",
    "\n",
    "from:\n",
    "\n",
    "https://python.swaroopch.com/op_exp.html\n",
    "\n",
    "### expression\n",
    "\n",
    "Most statements (logical lines) that you write will contain expressions. A simple example of an expression is\n",
    "\n",
    "2 + 3\n",
    "\n",
    "An expression can be broken down into operators and operands.\n",
    "\n",
    "### Operators \n",
    "\n",
    "are functionality that do something and can be represented by symbols such as + or by special keywords. \n",
    "\n",
    "Operators require some data to operate on and such data is called operands. In this case, 2 and 3 are the operands.\n",
    "\n",
    "\n",
    "We will briefly take a look at the operators and their usage.\n",
    "\n",
    "Here is a quick overview of the available operators:\n",
    "\n",
    "https://python.swaroopch.com/op_exp.html\n",
    "\n",
    "\n",
    "but the most common are: \n",
    "\n",
    "+ (plus)\n",
    "\n",
    "Adds two objects\n",
    "\n",
    "3 + 5 gives 8. 'a' + 'b' gives 'ab'.\n",
    "\n",
    "- (minus)\n",
    "\n",
    "Gives the subtraction of one number from the other; if the first operand is absent it is assumed to be zero.\n",
    "\n",
    "-5.2 gives a negative number and 50 - 24 gives 26.\n",
    "\n",
    "* (multiply)\n",
    "\n",
    "Gives the multiplication of the two numbers or returns the string repeated that many times.\n",
    "\n",
    "2 * 3 gives 6. 'la' * 3 gives 'lalala'.\n",
    "\n",
    "** (power)\n",
    "\n",
    "Returns x to the power of y\n",
    "\n",
    "3 ** 4 gives 81 (i.e. 3 * 3 * 3 * 3)\n",
    "\n",
    "\n",
    "/ (divide)\n",
    "\n",
    "Divide x by y\n",
    "\n",
    "13 / 3 gives 4.333333333333333\n",
    "\n",
    "\n",
    "\n",
    "### Shortcut for math operation and assignment\n",
    "\n",
    "\n",
    "It is common to run a math operation on a variable and then assign the result of the operation back to the variable, hence there is a shortcut for such expressions:\n",
    "\n",
    "a = 2\n",
    "\n",
    "a = a * 3\n",
    "\n",
    "can be written as:\n",
    "\n",
    "a = 2\n",
    "\n",
    "a *= 3\n",
    "\n",
    "Notice that var = var operation expression becomes var operation= expression.\n",
    "\n",
    "\n",
    "\n",
    "\n"
   ]
  },
  {
   "cell_type": "markdown",
   "id": "8705b8ba",
   "metadata": {},
   "source": [
    "[back to top](#Contents)\n",
    "\n",
    "\n",
    "<a id=\"6\"></a> \n",
    "# 6. Strings\n",
    "\n",
    "In our dogyears calculator function above there are three strings:  \"What is your age?\", \"Your age is\", and \"dog years\".\n",
    "\n",
    "String:  A string is a sequence of characters enclosed within double quotation marks or apostrophes (single quotation marks).\n",
    "\n",
    "    Example:  \"Good afternoon.\" , 'Welcome', \"AbC\", 'X'\n",
    "    \n",
    "Without quatation marks or apostrophes, you will get an error if you run it in a code cell.\n",
    "\n",
    "\n"
   ]
  },
  {
   "cell_type": "code",
   "execution_count": 18,
   "id": "d5963545",
   "metadata": {},
   "outputs": [
    {
     "data": {
      "text/plain": [
       "'Good afternoon.'"
      ]
     },
     "execution_count": 18,
     "metadata": {},
     "output_type": "execute_result"
    }
   ],
   "source": [
    "\"Good afternoon.\""
   ]
  },
  {
   "cell_type": "code",
   "execution_count": 19,
   "id": "d1335d92",
   "metadata": {},
   "outputs": [
    {
     "ename": "SyntaxError",
     "evalue": "invalid syntax (3407499028.py, line 1)",
     "output_type": "error",
     "traceback": [
      "\u001b[0;36m  Cell \u001b[0;32mIn[19], line 1\u001b[0;36m\u001b[0m\n\u001b[0;31m    Good afternoon\u001b[0m\n\u001b[0m         ^\u001b[0m\n\u001b[0;31mSyntaxError\u001b[0m\u001b[0;31m:\u001b[0m invalid syntax\n"
     ]
    }
   ],
   "source": [
    "Good afternoon"
   ]
  },
  {
   "cell_type": "code",
   "execution_count": 20,
   "id": "5af14e25",
   "metadata": {},
   "outputs": [
    {
     "data": {
      "text/plain": [
       "'X'"
      ]
     },
     "execution_count": 20,
     "metadata": {},
     "output_type": "execute_result"
    }
   ],
   "source": [
    "\"X\""
   ]
  },
  {
   "cell_type": "code",
   "execution_count": 99,
   "id": "a9aa52de",
   "metadata": {},
   "outputs": [],
   "source": [
    "#X"
   ]
  },
  {
   "cell_type": "markdown",
   "id": "93124ab7",
   "metadata": {},
   "source": [
    "An exception is if we have assigned X, for example, as a variable to another value. \n",
    "\n",
    "But there are rules about variable names, we will get to that later.  "
   ]
  },
  {
   "cell_type": "code",
   "execution_count": 22,
   "id": "d62d5a4d",
   "metadata": {},
   "outputs": [],
   "source": [
    "X = 3"
   ]
  },
  {
   "cell_type": "code",
   "execution_count": 23,
   "id": "0ecdd184",
   "metadata": {},
   "outputs": [
    {
     "data": {
      "text/plain": [
       "3"
      ]
     },
     "execution_count": 23,
     "metadata": {},
     "output_type": "execute_result"
    }
   ],
   "source": [
    "X"
   ]
  },
  {
   "cell_type": "code",
   "execution_count": 100,
   "id": "6b291ef4",
   "metadata": {},
   "outputs": [],
   "source": [
    "# remember variable naming \n",
    "\n",
    "#Good afternoon = 4"
   ]
  },
  {
   "cell_type": "markdown",
   "id": "45a5af51",
   "metadata": {},
   "source": [
    "### Quotes"
   ]
  },
  {
   "cell_type": "markdown",
   "id": "9c234e29",
   "metadata": {},
   "source": [
    "There is no difference between single and double quotes \n",
    "\n",
    "    Unless, your string has an apostrophe in it:  \"Mike's car\", then it is better to use double quoates \n",
    "\n",
    "At some point it will be advantageous to use one or the other \n",
    "\n",
    "Strings are of type str"
   ]
  },
  {
   "cell_type": "code",
   "execution_count": 25,
   "id": "88b88f60",
   "metadata": {},
   "outputs": [],
   "source": [
    "str_1 = \"hello\"\n",
    "str_2 = \"friend\""
   ]
  },
  {
   "cell_type": "code",
   "execution_count": 26,
   "id": "1f6fcf02",
   "metadata": {},
   "outputs": [
    {
     "data": {
      "text/plain": [
       "str"
      ]
     },
     "execution_count": 26,
     "metadata": {},
     "output_type": "execute_result"
    }
   ],
   "source": [
    "type(str_1)"
   ]
  },
  {
   "cell_type": "markdown",
   "id": "9fc44a77",
   "metadata": {},
   "source": [
    "Strings without quotes will result in error\n",
    "\n",
    "Strings are made of individual characters\n",
    "\n",
    "To access the individual characters we index\n",
    "\n",
    "Each character in the string corresponds to a position number, starting at zero\n",
    "\n",
    "Hello Bro    \n",
    "012345678\n",
    "\n",
    "9 characters, including the space so last character is in position n-1 (because we start at zero, not 1)\n",
    "\n",
    "We access the index using the form stringname[index_num]"
   ]
  },
  {
   "cell_type": "code",
   "execution_count": 27,
   "id": "0691d639",
   "metadata": {},
   "outputs": [
    {
     "data": {
      "text/plain": [
       "'friend'"
      ]
     },
     "execution_count": 27,
     "metadata": {},
     "output_type": "execute_result"
    }
   ],
   "source": [
    "str_2"
   ]
  },
  {
   "cell_type": "code",
   "execution_count": 28,
   "id": "f96a7f34",
   "metadata": {},
   "outputs": [
    {
     "data": {
      "text/plain": [
       "'f'"
      ]
     },
     "execution_count": 28,
     "metadata": {},
     "output_type": "execute_result"
    }
   ],
   "source": [
    "str_2[0]"
   ]
  },
  {
   "cell_type": "code",
   "execution_count": 29,
   "id": "81edf022",
   "metadata": {},
   "outputs": [
    {
     "data": {
      "text/plain": [
       "'r'"
      ]
     },
     "execution_count": 29,
     "metadata": {},
     "output_type": "execute_result"
    }
   ],
   "source": [
    "str_2[1]"
   ]
  },
  {
   "cell_type": "markdown",
   "id": "c5df6219",
   "metadata": {},
   "source": [
    "We can index from the end using stringname[-index_num]"
   ]
  },
  {
   "cell_type": "code",
   "execution_count": 30,
   "id": "043457db",
   "metadata": {},
   "outputs": [
    {
     "data": {
      "text/plain": [
       "'d'"
      ]
     },
     "execution_count": 30,
     "metadata": {},
     "output_type": "execute_result"
    }
   ],
   "source": [
    "str_2[-1]"
   ]
  },
  {
   "cell_type": "code",
   "execution_count": 31,
   "id": "6e3f6bf5",
   "metadata": {},
   "outputs": [
    {
     "data": {
      "text/plain": [
       "'n'"
      ]
     },
     "execution_count": 31,
     "metadata": {},
     "output_type": "execute_result"
    }
   ],
   "source": [
    "str_2[-2]"
   ]
  },
  {
   "cell_type": "markdown",
   "id": "c145bd6b",
   "metadata": {},
   "source": [
    "### Substrings and Slicing\n",
    "\n",
    "If we want more than one character indexed, or 'substring',we will slice our strings\n",
    "\n",
    "str_2[0:3]\n",
    "\n",
    "\n",
    "The first number is where we want to start the index \n",
    "\n",
    "then a colon:\n",
    "\n",
    "The second is where the slice ends - But it does not include the final number (non-inclusive)\n",
    "\n",
    "If you try to slice out of the range, you will get an error\n",
    "\n",
    "if str_2 = \"friend\"\n",
    "\n",
    "index of the string is:\n",
    "\n",
    "friend\n",
    "012345"
   ]
  },
  {
   "cell_type": "code",
   "execution_count": 32,
   "id": "7f5445a7",
   "metadata": {},
   "outputs": [
    {
     "data": {
      "text/plain": [
       "'fri'"
      ]
     },
     "execution_count": 32,
     "metadata": {},
     "output_type": "execute_result"
    }
   ],
   "source": [
    "str_2[0:3]\n"
   ]
  },
  {
   "cell_type": "code",
   "execution_count": 33,
   "id": "4e48cd6e",
   "metadata": {},
   "outputs": [
    {
     "data": {
      "text/plain": [
       "'frien'"
      ]
     },
     "execution_count": 33,
     "metadata": {},
     "output_type": "execute_result"
    }
   ],
   "source": [
    "str_2[0:5]\n"
   ]
  },
  {
   "cell_type": "code",
   "execution_count": 34,
   "id": "dea161b7",
   "metadata": {},
   "outputs": [
    {
     "data": {
      "text/plain": [
       "'friend'"
      ]
     },
     "execution_count": 34,
     "metadata": {},
     "output_type": "execute_result"
    }
   ],
   "source": [
    "str_2[0:6]"
   ]
  },
  {
   "cell_type": "markdown",
   "id": "707652d5",
   "metadata": {},
   "source": [
    "Note, if we tried a range above our index, we will be fine, but if we try to index just one character out of range, we get an error.  "
   ]
  },
  {
   "cell_type": "code",
   "execution_count": 35,
   "id": "b5f6a442",
   "metadata": {},
   "outputs": [
    {
     "data": {
      "text/plain": [
       "'friend'"
      ]
     },
     "execution_count": 35,
     "metadata": {},
     "output_type": "execute_result"
    }
   ],
   "source": [
    "str_2[0:20]"
   ]
  },
  {
   "cell_type": "code",
   "execution_count": 101,
   "id": "9458c32a",
   "metadata": {},
   "outputs": [],
   "source": [
    "#str_2[20]"
   ]
  },
  {
   "cell_type": "markdown",
   "id": "c8bf3618",
   "metadata": {},
   "source": [
    "If you slice and leave either number index blank, at defaults to the beginning or end of the string"
   ]
  },
  {
   "cell_type": "code",
   "execution_count": 37,
   "id": "9c0d5ae7",
   "metadata": {},
   "outputs": [
    {
     "data": {
      "text/plain": [
       "'friend'"
      ]
     },
     "execution_count": 37,
     "metadata": {},
     "output_type": "execute_result"
    }
   ],
   "source": [
    "str_2[:6]"
   ]
  },
  {
   "cell_type": "code",
   "execution_count": 38,
   "id": "ee5aa7c2",
   "metadata": {},
   "outputs": [
    {
     "data": {
      "text/plain": [
       "'friend'"
      ]
     },
     "execution_count": 38,
     "metadata": {},
     "output_type": "execute_result"
    }
   ],
   "source": [
    "str_2[0:]"
   ]
  },
  {
   "cell_type": "markdown",
   "id": "14107ab1",
   "metadata": {},
   "source": [
    "more examples with:\n",
    "\n",
    "hello bro \n",
    "012345678"
   ]
  },
  {
   "cell_type": "code",
   "execution_count": 39,
   "id": "1466eda7",
   "metadata": {},
   "outputs": [],
   "source": [
    "a = \"hello bro\""
   ]
  },
  {
   "cell_type": "code",
   "execution_count": 40,
   "id": "aa2a9ab7",
   "metadata": {},
   "outputs": [
    {
     "data": {
      "text/plain": [
       "'hello'"
      ]
     },
     "execution_count": 40,
     "metadata": {},
     "output_type": "execute_result"
    }
   ],
   "source": [
    "a[:5]"
   ]
  },
  {
   "cell_type": "code",
   "execution_count": 41,
   "id": "d7e54f50",
   "metadata": {},
   "outputs": [
    {
     "data": {
      "text/plain": [
       "'bro'"
      ]
     },
     "execution_count": 41,
     "metadata": {},
     "output_type": "execute_result"
    }
   ],
   "source": [
    "a[6:]"
   ]
  },
  {
   "cell_type": "code",
   "execution_count": 42,
   "id": "f0003e7c",
   "metadata": {},
   "outputs": [
    {
     "data": {
      "text/plain": [
       "'hello bro'"
      ]
     },
     "execution_count": 42,
     "metadata": {},
     "output_type": "execute_result"
    }
   ],
   "source": [
    "a[0:9]"
   ]
  },
  {
   "cell_type": "code",
   "execution_count": 43,
   "id": "960c385f",
   "metadata": {},
   "outputs": [
    {
     "data": {
      "text/plain": [
       "'hello bro'"
      ]
     },
     "execution_count": 43,
     "metadata": {},
     "output_type": "execute_result"
    }
   ],
   "source": [
    "a[0:]"
   ]
  },
  {
   "cell_type": "code",
   "execution_count": 44,
   "id": "f7a50c6f",
   "metadata": {},
   "outputs": [
    {
     "data": {
      "text/plain": [
       "'hello bro'"
      ]
     },
     "execution_count": 44,
     "metadata": {},
     "output_type": "execute_result"
    }
   ],
   "source": [
    "a[:9]"
   ]
  },
  {
   "cell_type": "markdown",
   "id": "89bf87bd",
   "metadata": {},
   "source": [
    "as you can see, there are often multiple ways to slice and get the same results"
   ]
  },
  {
   "cell_type": "markdown",
   "id": "94d7d713",
   "metadata": {},
   "source": [
    "### Operations  can be done on strings too\n",
    "\n",
    "Notice the importance of spacing inside of the quotes to yield different results"
   ]
  },
  {
   "cell_type": "code",
   "execution_count": 45,
   "id": "b697735a",
   "metadata": {},
   "outputs": [
    {
     "data": {
      "text/plain": [
       "'hellofriend'"
      ]
     },
     "execution_count": 45,
     "metadata": {},
     "output_type": "execute_result"
    }
   ],
   "source": [
    "'hello' + 'friend'"
   ]
  },
  {
   "cell_type": "code",
   "execution_count": 46,
   "id": "5a667572",
   "metadata": {},
   "outputs": [
    {
     "data": {
      "text/plain": [
       "'hello friend'"
      ]
     },
     "execution_count": 46,
     "metadata": {},
     "output_type": "execute_result"
    }
   ],
   "source": [
    "'hello' + ' friend'"
   ]
  },
  {
   "cell_type": "code",
   "execution_count": 47,
   "id": "1bb023cc",
   "metadata": {},
   "outputs": [
    {
     "data": {
      "text/plain": [
       "'hellohellohello'"
      ]
     },
     "execution_count": 47,
     "metadata": {},
     "output_type": "execute_result"
    }
   ],
   "source": [
    "'hello' * 3"
   ]
  },
  {
   "cell_type": "code",
   "execution_count": 48,
   "id": "4a1901bc",
   "metadata": {},
   "outputs": [
    {
     "data": {
      "text/plain": [
       "'hello hello hello '"
      ]
     },
     "execution_count": 48,
     "metadata": {},
     "output_type": "execute_result"
    }
   ],
   "source": [
    "'hello ' * 3"
   ]
  },
  {
   "cell_type": "code",
   "execution_count": 49,
   "id": "161b958f",
   "metadata": {},
   "outputs": [
    {
     "name": "stdout",
     "output_type": "stream",
     "text": [
      "H\n",
      "e\n",
      "l\n",
      "l\n",
      "o\n"
     ]
    }
   ],
   "source": [
    "for i in 'Hello':\n",
    "    print(i)"
   ]
  },
  {
   "cell_type": "code",
   "execution_count": 50,
   "id": "66ba6d82",
   "metadata": {},
   "outputs": [
    {
     "name": "stdout",
     "output_type": "stream",
     "text": [
      " \n",
      " \n",
      "H\n",
      "e\n",
      "l\n",
      "l\n",
      "o\n",
      " \n",
      " \n"
     ]
    }
   ],
   "source": [
    "for i in '  Hello  ':\n",
    "    print(i)"
   ]
  },
  {
   "cell_type": "markdown",
   "id": "c8bd311b",
   "metadata": {},
   "source": [
    "Notice the difference between using (  ) and [  ] when printing and listing "
   ]
  },
  {
   "cell_type": "code",
   "execution_count": 51,
   "id": "d1830b42",
   "metadata": {},
   "outputs": [],
   "source": [
    "Q1 = (\"Data Science for all!\")"
   ]
  },
  {
   "cell_type": "code",
   "execution_count": 52,
   "id": "6608f2e4",
   "metadata": {},
   "outputs": [
    {
     "name": "stdout",
     "output_type": "stream",
     "text": [
      "D\n",
      "a\n",
      "t\n",
      "a\n",
      " \n",
      "S\n",
      "c\n",
      "i\n",
      "e\n",
      "n\n",
      "c\n",
      "e\n",
      " \n",
      "f\n",
      "o\n",
      "r\n",
      " \n",
      "a\n",
      "l\n",
      "l\n",
      "!\n"
     ]
    }
   ],
   "source": [
    "for i in Q1:\n",
    "    print(i)"
   ]
  },
  {
   "cell_type": "code",
   "execution_count": 53,
   "id": "022bb399",
   "metadata": {},
   "outputs": [
    {
     "name": "stdout",
     "output_type": "stream",
     "text": [
      "Data Science for all!\n"
     ]
    }
   ],
   "source": [
    "Q2 = [\"Data Science for all!\"]\n",
    "for i in Q2:\n",
    "    print(i)"
   ]
  },
  {
   "cell_type": "code",
   "execution_count": 54,
   "id": "435ac899",
   "metadata": {},
   "outputs": [
    {
     "name": "stdout",
     "output_type": "stream",
     "text": [
      "H\n",
      "e\n",
      "l\n",
      "l\n",
      "o\n"
     ]
    }
   ],
   "source": [
    "for i in 'Hello':\n",
    "    print(i)"
   ]
  },
  {
   "cell_type": "code",
   "execution_count": 55,
   "id": "23f4b94d",
   "metadata": {},
   "outputs": [
    {
     "name": "stdout",
     "output_type": "stream",
     "text": [
      "H\n",
      "e\n",
      "l\n",
      "l\n",
      "o\n"
     ]
    }
   ],
   "source": [
    "for i in ('Hello'):\n",
    "    print(i)"
   ]
  },
  {
   "cell_type": "code",
   "execution_count": 56,
   "id": "6f025123",
   "metadata": {},
   "outputs": [
    {
     "name": "stdout",
     "output_type": "stream",
     "text": [
      "Hello\n"
     ]
    }
   ],
   "source": [
    "for i in ['Hello']:\n",
    "    print(i)"
   ]
  },
  {
   "cell_type": "markdown",
   "id": "6afef11b",
   "metadata": {},
   "source": [
    "[back to top](#Contents)\n",
    "\n",
    "\n",
    "<a id=\"7\"></a> \n",
    "\n",
    "# 7. Lists\n",
    "\n",
    "\n",
    "\n",
    "lists are data structures that have ordered elements\n",
    "\n",
    "They are created by using square brackets\n"
   ]
  },
  {
   "cell_type": "code",
   "execution_count": 57,
   "id": "be094ae6",
   "metadata": {},
   "outputs": [
    {
     "data": {
      "text/plain": [
       "['Mike', 'Maggie', 'Luke', 'Lary']"
      ]
     },
     "execution_count": 57,
     "metadata": {},
     "output_type": "execute_result"
    }
   ],
   "source": [
    "friends = ['Mike', 'Maggie', 'Luke', 'Lary']\n",
    "friends"
   ]
  },
  {
   "cell_type": "code",
   "execution_count": 58,
   "id": "7d92e8a7",
   "metadata": {},
   "outputs": [
    {
     "data": {
      "text/plain": [
       "4"
      ]
     },
     "execution_count": 58,
     "metadata": {},
     "output_type": "execute_result"
    }
   ],
   "source": [
    "classes = ['Python', 'R', 'Tableau', 'SQL']\n",
    "len(classes)"
   ]
  },
  {
   "cell_type": "code",
   "execution_count": 59,
   "id": "07d3a02d",
   "metadata": {},
   "outputs": [
    {
     "data": {
      "text/plain": [
       "list"
      ]
     },
     "execution_count": 59,
     "metadata": {},
     "output_type": "execute_result"
    }
   ],
   "source": [
    "numbers = [1, 2, 3, 6, 8, 9]\n",
    "type(numbers)"
   ]
  },
  {
   "cell_type": "code",
   "execution_count": 60,
   "id": "c8a59cbe",
   "metadata": {},
   "outputs": [],
   "source": [
    "random = [1, False, 'Hello', 3.65]"
   ]
  },
  {
   "cell_type": "code",
   "execution_count": 61,
   "id": "cb30d729",
   "metadata": {},
   "outputs": [
    {
     "data": {
      "text/plain": [
       "[1, False, 'Hello', 3.65]"
      ]
     },
     "execution_count": 61,
     "metadata": {},
     "output_type": "execute_result"
    }
   ],
   "source": [
    "random"
   ]
  },
  {
   "cell_type": "code",
   "execution_count": 62,
   "id": "a48e0511",
   "metadata": {},
   "outputs": [
    {
     "data": {
      "text/plain": [
       "4"
      ]
     },
     "execution_count": 62,
     "metadata": {},
     "output_type": "execute_result"
    }
   ],
   "source": [
    "len(random)"
   ]
  },
  {
   "cell_type": "code",
   "execution_count": 63,
   "id": "a60cb714",
   "metadata": {},
   "outputs": [
    {
     "name": "stdout",
     "output_type": "stream",
     "text": [
      "<class 'list'>\n"
     ]
    }
   ],
   "source": [
    "print(type(random))"
   ]
  },
  {
   "cell_type": "markdown",
   "id": "4d1c76c8",
   "metadata": {},
   "source": [
    "### Slicing Lists\n",
    "\n",
    "A slice is a part of a list, just like with strings \n",
    "\n",
    "And it is done the same way"
   ]
  },
  {
   "cell_type": "code",
   "execution_count": 64,
   "id": "0aad538b",
   "metadata": {},
   "outputs": [],
   "source": [
    "x = [3, 5, 9, 8, 1, 7, 6, 4]"
   ]
  },
  {
   "cell_type": "code",
   "execution_count": 65,
   "id": "3ca7809c",
   "metadata": {},
   "outputs": [
    {
     "data": {
      "text/plain": [
       "[9, 8, 1]"
      ]
     },
     "execution_count": 65,
     "metadata": {},
     "output_type": "execute_result"
    }
   ],
   "source": [
    "x[2:5]"
   ]
  },
  {
   "cell_type": "markdown",
   "id": "5cce49a8",
   "metadata": {},
   "source": [
    "You could say the end is noniclusive\n",
    "\n",
    "if  J equals"
   ]
  },
  {
   "cell_type": "code",
   "execution_count": 66,
   "id": "f088d94e",
   "metadata": {},
   "outputs": [],
   "source": [
    "j =[4, 8, 11, 3, 19, 2, 5, 8, 12, 9]"
   ]
  },
  {
   "cell_type": "code",
   "execution_count": 67,
   "id": "b9189182",
   "metadata": {},
   "outputs": [
    {
     "data": {
      "text/plain": [
       "[11, 3, 19, 2, 5, 8, 12, 9]"
      ]
     },
     "execution_count": 67,
     "metadata": {},
     "output_type": "execute_result"
    }
   ],
   "source": [
    "#only prints the last one, unless you put print() first\n",
    "\n",
    "j[2:6]\n",
    "j[7:9]\n",
    "j[9:1]\n",
    "j[:6]\n",
    "j[2:]"
   ]
  },
  {
   "cell_type": "code",
   "execution_count": 68,
   "id": "54f7121c",
   "metadata": {},
   "outputs": [
    {
     "name": "stdout",
     "output_type": "stream",
     "text": [
      "[11, 3, 19, 2]\n",
      "[8, 12]\n",
      "[]\n",
      "[4, 8, 11, 3, 19, 2]\n",
      "[11, 3, 19, 2, 5, 8, 12, 9]\n",
      "[]\n"
     ]
    }
   ],
   "source": [
    "print(j[2:6])\n",
    "print(j[7:9])\n",
    "print(j[9:1])\n",
    "print(j[:6])\n",
    "print(j[2:])\n",
    "print(j[-1:0])"
   ]
  },
  {
   "cell_type": "markdown",
   "id": "1b7607eb",
   "metadata": {},
   "source": [
    "the third and sixth return  empty lists, because it doesn't work like that.  Can't go backwards in this manner.  "
   ]
  },
  {
   "cell_type": "markdown",
   "id": "6d058308",
   "metadata": {},
   "source": [
    "### Altering values in lists\n",
    "\n",
    "lists are mutable- you can add or remove items\n",
    "\n",
    "To alter a single value in a list, you can specify an index's new value"
   ]
  },
  {
   "cell_type": "code",
   "execution_count": 69,
   "id": "c4cdc1ce",
   "metadata": {},
   "outputs": [
    {
     "data": {
      "text/plain": [
       "[1, 2, 3]"
      ]
     },
     "execution_count": 69,
     "metadata": {},
     "output_type": "execute_result"
    }
   ],
   "source": [
    "a = [1, 2, 3]\n",
    "a"
   ]
  },
  {
   "cell_type": "code",
   "execution_count": 70,
   "id": "13bf1a3d",
   "metadata": {},
   "outputs": [
    {
     "data": {
      "text/plain": [
       "[-10, 2, 3]"
      ]
     },
     "execution_count": 70,
     "metadata": {},
     "output_type": "execute_result"
    }
   ],
   "source": [
    "a[0] = -10\n",
    "a"
   ]
  },
  {
   "cell_type": "markdown",
   "id": "b79d548c",
   "metadata": {},
   "source": [
    "### append method\n",
    "\n",
    "To add values use the .append method\n",
    "\n",
    "A method = a function called on an object\n",
    "\n",
    "Objects have built-in methods that can be utilized depending on the type of object\n",
    "\n",
    "Methods are basically functions that work on specific classes of data. \n",
    "\n",
    ".append will work on a list, but not on an individual integer"
   ]
  },
  {
   "cell_type": "code",
   "execution_count": 71,
   "id": "4b35179d",
   "metadata": {},
   "outputs": [
    {
     "data": {
      "text/plain": [
       "[-10, 2, 3, 4]"
      ]
     },
     "execution_count": 71,
     "metadata": {},
     "output_type": "execute_result"
    }
   ],
   "source": [
    "a.append(4)\n",
    "a"
   ]
  },
  {
   "cell_type": "code",
   "execution_count": 72,
   "id": "324d3e11",
   "metadata": {},
   "outputs": [
    {
     "ename": "SyntaxError",
     "evalue": "invalid syntax (352740961.py, line 3)",
     "output_type": "error",
     "traceback": [
      "\u001b[0;36m  Cell \u001b[0;32mIn[72], line 3\u001b[0;36m\u001b[0m\n\u001b[0;31m    1.append(4)\u001b[0m\n\u001b[0m      ^\u001b[0m\n\u001b[0;31mSyntaxError\u001b[0m\u001b[0;31m:\u001b[0m invalid syntax\n"
     ]
    }
   ],
   "source": [
    "#.append will work on a list, but not on an individual integer\n",
    "\n",
    "1.append(4)"
   ]
  },
  {
   "cell_type": "code",
   "execution_count": 73,
   "id": "634361df",
   "metadata": {},
   "outputs": [],
   "source": [
    "b = 1"
   ]
  },
  {
   "cell_type": "code",
   "execution_count": 102,
   "id": "9310ed97",
   "metadata": {},
   "outputs": [],
   "source": [
    "# even if you assign it to a variable.  Doesn't work, need to have a list format\n",
    "\n",
    "#b.append(4)"
   ]
  },
  {
   "cell_type": "code",
   "execution_count": 75,
   "id": "b945230e",
   "metadata": {},
   "outputs": [
    {
     "data": {
      "text/plain": [
       "[1, 4]"
      ]
     },
     "execution_count": 75,
     "metadata": {},
     "output_type": "execute_result"
    }
   ],
   "source": [
    "# but if we assign 1 to b as a list type...\n",
    "\n",
    "b = [1]\n",
    "\n",
    "b.append(4)\n",
    "\n",
    "b"
   ]
  },
  {
   "cell_type": "markdown",
   "id": "84b71466",
   "metadata": {},
   "source": [
    "Typing a. then tab key will show you a list of different methods you can perform\n",
    "\n",
    "For example you can also use .extend()\n",
    "\n",
    ".extend, extends the list, .append attaches list as another object.  "
   ]
  },
  {
   "cell_type": "code",
   "execution_count": 76,
   "id": "ab1fba4c",
   "metadata": {},
   "outputs": [
    {
     "name": "stdout",
     "output_type": "stream",
     "text": [
      "[-10, 2, 3, 4]\n",
      "[20, 30]\n"
     ]
    },
    {
     "data": {
      "text/plain": [
       "[-10, 2, 3, 4, 20, 30]"
      ]
     },
     "execution_count": 76,
     "metadata": {},
     "output_type": "execute_result"
    }
   ],
   "source": [
    "print(a)\n",
    "c = [20, 30]\n",
    "print(c)\n",
    "a.extend(c)\n",
    "a"
   ]
  },
  {
   "cell_type": "code",
   "execution_count": 77,
   "id": "3e2e5ca7",
   "metadata": {},
   "outputs": [
    {
     "data": {
      "text/plain": [
       "[-10, 2, 3, 4, 20, 30, [200, 300]]"
      ]
     },
     "execution_count": 77,
     "metadata": {},
     "output_type": "execute_result"
    }
   ],
   "source": [
    "d = [200, 300]\n",
    "a.append(d)\n",
    "a"
   ]
  },
  {
   "cell_type": "markdown",
   "id": "25ff6acc",
   "metadata": {},
   "source": [
    "### Operations on lists \n",
    "\n",
    "if you multiply a list it will return that list, twice\n",
    "\n",
    "Whats the difference between the two?"
   ]
  },
  {
   "cell_type": "code",
   "execution_count": 78,
   "id": "b1dec83b",
   "metadata": {},
   "outputs": [
    {
     "name": "stdout",
     "output_type": "stream",
     "text": [
      "[1, 2, 3, 4, 5]\n"
     ]
    },
    {
     "data": {
      "text/plain": [
       "[1, 2, 3, 4, 5, 1, 2, 3, 4, 5]"
      ]
     },
     "execution_count": 78,
     "metadata": {},
     "output_type": "execute_result"
    }
   ],
   "source": [
    "# we multiply the list, not each element of the list\n",
    "# to multiply each value, you may want to use a loop, for example \n",
    "\n",
    "j = [1, 2, 3, 4, 5]\n",
    "print(j)\n",
    "j*2"
   ]
  },
  {
   "cell_type": "code",
   "execution_count": 79,
   "id": "57a3251e",
   "metadata": {},
   "outputs": [
    {
     "data": {
      "text/plain": [
       "[[1, 2, 3, 4, 5, 1, 2, 3, 4, 5]]"
      ]
     },
     "execution_count": 79,
     "metadata": {},
     "output_type": "execute_result"
    }
   ],
   "source": [
    "[j*2]"
   ]
  },
  {
   "cell_type": "markdown",
   "id": "ebba0fbc",
   "metadata": {},
   "source": [
    "when you do [j * 2] and get the double brackets, you've made a list within a list"
   ]
  },
  {
   "cell_type": "code",
   "execution_count": 80,
   "id": "8fd2d250",
   "metadata": {},
   "outputs": [
    {
     "name": "stdout",
     "output_type": "stream",
     "text": [
      "[1, 2, 3, 4, 5, 1, 2, 3, 4, 5]\n",
      "[[1, 2, 3, 4, 5, 1, 2, 3, 4, 5]]\n"
     ]
    }
   ],
   "source": [
    "h = j * 2\n",
    "k = [j * 2]\n",
    "print(h)\n",
    "print(k)"
   ]
  },
  {
   "cell_type": "code",
   "execution_count": 81,
   "id": "e7bce4ae",
   "metadata": {},
   "outputs": [
    {
     "name": "stdout",
     "output_type": "stream",
     "text": [
      "[1, 2, 3, 4, 5, 1, 2, 3, 4, 5, [20, 30, 40]]\n"
     ]
    },
    {
     "data": {
      "text/plain": [
       "11"
      ]
     },
     "execution_count": 81,
     "metadata": {},
     "output_type": "execute_result"
    }
   ],
   "source": [
    "h.append([20, 30, 40])\n",
    "print(h)\n",
    "len(h)"
   ]
  },
  {
   "cell_type": "code",
   "execution_count": 82,
   "id": "5ced09bd",
   "metadata": {},
   "outputs": [
    {
     "data": {
      "text/plain": [
       "[20, 30, 40]"
      ]
     },
     "execution_count": 82,
     "metadata": {},
     "output_type": "execute_result"
    }
   ],
   "source": [
    "h[-1]"
   ]
  },
  {
   "cell_type": "code",
   "execution_count": 83,
   "id": "c195291c",
   "metadata": {},
   "outputs": [
    {
     "name": "stdout",
     "output_type": "stream",
     "text": [
      "[[1, 2, 3, 4, 5, 1, 2, 3, 4, 5], [20, 30, 40]]\n"
     ]
    },
    {
     "data": {
      "text/plain": [
       "2"
      ]
     },
     "execution_count": 83,
     "metadata": {},
     "output_type": "execute_result"
    }
   ],
   "source": [
    "k.append([20, 30, 40])\n",
    "print(k)\n",
    "len(k)"
   ]
  },
  {
   "cell_type": "markdown",
   "id": "ec0c3b98",
   "metadata": {},
   "source": [
    " Now the len is only two, because there are two lists.  K was a list within a list.  \n",
    "\n"
   ]
  },
  {
   "cell_type": "markdown",
   "id": "126aaefa",
   "metadata": {},
   "source": [
    "[back to top](#Contents)\n",
    "\n",
    "\n",
    "<a id=\"8\"></a> \n",
    "\n",
    "# 8. Loops\n",
    "\n",
    "\n",
    "A lot of programming can be very repetitive"
   ]
  },
  {
   "cell_type": "code",
   "execution_count": 84,
   "id": "e334d5b0",
   "metadata": {},
   "outputs": [
    {
     "data": {
      "text/plain": [
       "['math', 'science', 'history', 'gym']"
      ]
     },
     "execution_count": 84,
     "metadata": {},
     "output_type": "execute_result"
    }
   ],
   "source": [
    "classes = ['math', 'science', 'history', 'gym']\n",
    "family = ['Doug', 'Joan', 'Scott', 'Mitch']\n",
    "numbers = [1, 2, 3, 4, 5]\n",
    "classes"
   ]
  },
  {
   "cell_type": "markdown",
   "id": "9092fb19",
   "metadata": {},
   "source": [
    "if you print the list, it prints out the whole list\n",
    "\n",
    "If you wanted to print out single things in a list you could do print(classes[x])"
   ]
  },
  {
   "cell_type": "code",
   "execution_count": 85,
   "id": "8468b26a",
   "metadata": {},
   "outputs": [
    {
     "name": "stdout",
     "output_type": "stream",
     "text": [
      "['Doug', 'Joan', 'Scott', 'Mitch']\n"
     ]
    }
   ],
   "source": [
    "print(family)"
   ]
  },
  {
   "cell_type": "code",
   "execution_count": 86,
   "id": "882ccd1d",
   "metadata": {},
   "outputs": [
    {
     "name": "stdout",
     "output_type": "stream",
     "text": [
      "Doug\n",
      "Joan\n",
      "Scott\n",
      "Mitch\n"
     ]
    }
   ],
   "source": [
    "print(family[0])\n",
    "print(family[1])\n",
    "print(family[2])\n",
    "print(family[3])\n"
   ]
  },
  {
   "cell_type": "markdown",
   "id": "dc4362b6",
   "metadata": {},
   "source": [
    "This is why we use loops\n",
    "\n",
    "Loops save us time by automating a repetitive process\n",
    "\n",
    "two braod categories  'for loops'(or definite loops) and 'while loops'\n",
    " \n",
    "\n",
    "I will show you 'for' loops now\n",
    "\n",
    "\n",
    "for a in b:\n",
    "\n",
    "    [executabale statement]\n",
    "    \n",
    "where a refers to the elements in b \n"
   ]
  },
  {
   "cell_type": "code",
   "execution_count": 87,
   "id": "f253b2c5",
   "metadata": {},
   "outputs": [
    {
     "name": "stdout",
     "output_type": "stream",
     "text": [
      "math\n",
      "science\n",
      "history\n",
      "gym\n"
     ]
    }
   ],
   "source": [
    "for i in classes:\n",
    "    print(i)\n",
    "    "
   ]
  },
  {
   "cell_type": "markdown",
   "id": "14483dc1",
   "metadata": {},
   "source": [
    "### Definite/for loops\n",
    "\n",
    "\n",
    "Execute code a specific (definite) number of times\n",
    "\n",
    "basic structure:\n",
    "\n",
    "\n",
    "for  each item in  sequence:\n",
    "    \n",
    "    <statement>"
   ]
  },
  {
   "cell_type": "code",
   "execution_count": 88,
   "id": "3a9aa3c7",
   "metadata": {},
   "outputs": [
    {
     "name": "stdout",
     "output_type": "stream",
     "text": [
      "1\n",
      "2\n",
      "3\n",
      "4\n",
      "5\n"
     ]
    }
   ],
   "source": [
    "numbers = [1, 2, 3, 4, 5]\n",
    "for num in numbers:\n",
    "    print(num)"
   ]
  },
  {
   "cell_type": "code",
   "execution_count": 89,
   "id": "b423bd25",
   "metadata": {},
   "outputs": [
    {
     "name": "stdout",
     "output_type": "stream",
     "text": [
      "math\n",
      "science\n",
      "history\n",
      "gym\n"
     ]
    }
   ],
   "source": [
    "# the name of each 'item' doesn't matter as long as you stay consistent \n",
    "\n",
    "classes = ['math', 'science', 'history', 'gym']\n",
    "\n",
    "for cow in classes:\n",
    "    print(cow)"
   ]
  },
  {
   "cell_type": "code",
   "execution_count": 90,
   "id": "f64d5a9d",
   "metadata": {},
   "outputs": [
    {
     "name": "stdout",
     "output_type": "stream",
     "text": [
      "1\n",
      "1\n",
      "1\n",
      "1\n"
     ]
    }
   ],
   "source": [
    "\n",
    "\n",
    "for cow in classes:\n",
    "    print(1)\n",
    " "
   ]
  },
  {
   "cell_type": "code",
   "execution_count": 91,
   "id": "7bdb4532",
   "metadata": {},
   "outputs": [
    {
     "name": "stdout",
     "output_type": "stream",
     "text": [
      "1\n",
      "2\n",
      "3\n",
      "4\n"
     ]
    }
   ],
   "source": [
    "x = 1\n",
    "\n",
    "for cow in classes:\n",
    "    print(x)\n",
    "    x += 1"
   ]
  },
  {
   "cell_type": "code",
   "execution_count": 92,
   "id": "067af4bf",
   "metadata": {},
   "outputs": [
    {
     "name": "stdout",
     "output_type": "stream",
     "text": [
      "x\n",
      "x\n",
      "x\n",
      "x\n"
     ]
    }
   ],
   "source": [
    "for cow in classes:\n",
    "    print('x')"
   ]
  },
  {
   "cell_type": "markdown",
   "id": "393fc192",
   "metadata": {},
   "source": [
    "Lots of flexibility "
   ]
  },
  {
   "cell_type": "code",
   "execution_count": 93,
   "id": "c46246b3",
   "metadata": {},
   "outputs": [
    {
     "name": "stdout",
     "output_type": "stream",
     "text": [
      "1\n",
      "11\n",
      "21\n",
      "31\n"
     ]
    }
   ],
   "source": [
    "y = 1\n",
    "\n",
    "for i in classes:\n",
    "    print(y)\n",
    "    y += 10"
   ]
  },
  {
   "cell_type": "code",
   "execution_count": 94,
   "id": "50d22863",
   "metadata": {},
   "outputs": [
    {
     "name": "stdout",
     "output_type": "stream",
     "text": [
      "3\n",
      "3\n",
      "3\n",
      "3\n"
     ]
    }
   ],
   "source": [
    "z = 1\n",
    "\n",
    "for i in classes:\n",
    "    print(z * 3)\n",
    "    y += 10"
   ]
  },
  {
   "cell_type": "code",
   "execution_count": 95,
   "id": "6d1dbb40",
   "metadata": {},
   "outputs": [
    {
     "name": "stdout",
     "output_type": "stream",
     "text": [
      "3\n",
      "33\n",
      "63\n",
      "93\n"
     ]
    }
   ],
   "source": [
    "z = 1\n",
    "\n",
    "for i in classes:\n",
    "    print(z * 3)\n",
    "    z += 10"
   ]
  },
  {
   "cell_type": "markdown",
   "id": "4830be5b",
   "metadata": {},
   "source": [
    "### While Loops \n",
    "\n",
    "For loops execute a specific number of times\n",
    "\n",
    "    for example, once for each item in a list\n",
    "\n",
    "While loops execute until a certain criterion has been met\n",
    "\n",
    "    while -item- -condition-\n",
    "        -statement-\n",
    "        \n",
    "        \n",
    "When using while loops, you must identify a starting value for your variables.  This is called initializing your variable. "
   ]
  },
  {
   "cell_type": "code",
   "execution_count": 105,
   "id": "e09c3f1c",
   "metadata": {},
   "outputs": [
    {
     "name": "stdout",
     "output_type": "stream",
     "text": [
      "1\n",
      "2\n",
      "3\n"
     ]
    }
   ],
   "source": [
    "i= 1\n",
    "\n",
    "while i <= 3:\n",
    "    print(i)\n",
    "    i += 1\n"
   ]
  },
  {
   "cell_type": "code",
   "execution_count": 111,
   "id": "7573529e",
   "metadata": {},
   "outputs": [
    {
     "name": "stdout",
     "output_type": "stream",
     "text": [
      "12\n",
      "144\n",
      "20736\n",
      "429981696\n"
     ]
    }
   ],
   "source": [
    "j = 12\n",
    "while j <= 300000000000:\n",
    "    print(j)\n",
    "    j = j * j"
   ]
  },
  {
   "cell_type": "markdown",
   "id": "17de56a0",
   "metadata": {},
   "source": [
    "And we can define this loop as a function"
   ]
  },
  {
   "cell_type": "code",
   "execution_count": 115,
   "id": "460ca9db",
   "metadata": {},
   "outputs": [],
   "source": [
    "def Q1():\n",
    "    j = 12\n",
    "    while j <= 300000000000:\n",
    "        print(j)\n",
    "        j = j * j\n"
   ]
  },
  {
   "cell_type": "code",
   "execution_count": 116,
   "id": "84cf8ffb",
   "metadata": {},
   "outputs": [
    {
     "name": "stdout",
     "output_type": "stream",
     "text": [
      "12\n",
      "144\n",
      "20736\n",
      "429981696\n"
     ]
    }
   ],
   "source": [
    "Q1()"
   ]
  },
  {
   "cell_type": "markdown",
   "id": "b0c10644",
   "metadata": {},
   "source": [
    "[back to top](#Contents)\n",
    "\n",
    "\n",
    "<a id=\"9\"></a> \n",
    "\n",
    "# 9. Functions"
   ]
  },
  {
   "cell_type": "markdown",
   "id": "92b37f3e",
   "metadata": {},
   "source": [
    "A function is a block of reusable code that performs one action\n",
    "\n",
    "Python has built-in functions and we can also have user defined functions\n",
    "\n",
    "built-in function examples:"
   ]
  },
  {
   "cell_type": "code",
   "execution_count": 118,
   "id": "d9a92edb",
   "metadata": {},
   "outputs": [
    {
     "name": "stdout",
     "output_type": "stream",
     "text": [
      "hello\n"
     ]
    }
   ],
   "source": [
    "print('hello')"
   ]
  },
  {
   "cell_type": "code",
   "execution_count": 119,
   "id": "9c6b39a9",
   "metadata": {},
   "outputs": [
    {
     "data": {
      "text/plain": [
       "5"
      ]
     },
     "execution_count": 119,
     "metadata": {},
     "output_type": "execute_result"
    }
   ],
   "source": [
    "len('hello')"
   ]
  },
  {
   "cell_type": "code",
   "execution_count": 120,
   "id": "37148b7a",
   "metadata": {},
   "outputs": [
    {
     "data": {
      "text/plain": [
       "str"
      ]
     },
     "execution_count": 120,
     "metadata": {},
     "output_type": "execute_result"
    }
   ],
   "source": [
    "type('hello')"
   ]
  },
  {
   "cell_type": "code",
   "execution_count": 122,
   "id": "e1dc2450",
   "metadata": {},
   "outputs": [
    {
     "data": {
      "text/plain": [
       "10"
      ]
     },
     "execution_count": 122,
     "metadata": {},
     "output_type": "execute_result"
    }
   ],
   "source": [
    "abs(-10)"
   ]
  },
  {
   "cell_type": "markdown",
   "id": "a6e02652",
   "metadata": {},
   "source": [
    "### Creating Functions\n",
    "\n",
    "to create functions:\n",
    "\n",
    "1. Use the keyword def\n",
    "2. Follow def with the function name\n",
    "3. Add parentheses with optional parameters"
   ]
  },
  {
   "cell_type": "code",
   "execution_count": 123,
   "id": "339385a6",
   "metadata": {},
   "outputs": [],
   "source": [
    "def fun1():\n",
    "    print(\"hello world\")"
   ]
  },
  {
   "cell_type": "code",
   "execution_count": 124,
   "id": "026b316e",
   "metadata": {},
   "outputs": [
    {
     "name": "stdout",
     "output_type": "stream",
     "text": [
      "hello world\n"
     ]
    }
   ],
   "source": [
    "fun1()"
   ]
  },
  {
   "cell_type": "code",
   "execution_count": 125,
   "id": "7274bced",
   "metadata": {},
   "outputs": [],
   "source": [
    "def fun2(x):\n",
    "    return x * x\n",
    "\n"
   ]
  },
  {
   "cell_type": "code",
   "execution_count": 126,
   "id": "7ae3805f",
   "metadata": {},
   "outputs": [
    {
     "data": {
      "text/plain": [
       "25"
      ]
     },
     "execution_count": 126,
     "metadata": {},
     "output_type": "execute_result"
    }
   ],
   "source": [
    "fun2(5)"
   ]
  },
  {
   "cell_type": "code",
   "execution_count": 127,
   "id": "e19649ad",
   "metadata": {},
   "outputs": [],
   "source": [
    "def fun3(x, y):\n",
    "    print(x*y)\n",
    "    \n"
   ]
  },
  {
   "cell_type": "code",
   "execution_count": 128,
   "id": "d9bea0d1",
   "metadata": {},
   "outputs": [
    {
     "name": "stdout",
     "output_type": "stream",
     "text": [
      "50\n"
     ]
    }
   ],
   "source": [
    "fun3(5, 10)"
   ]
  },
  {
   "cell_type": "code",
   "execution_count": 150,
   "id": "b2a52e2b",
   "metadata": {},
   "outputs": [],
   "source": [
    "\n",
    "def fun3():\n",
    "    # We can add a docstring with double qoutes to define function in help section \n",
    "    \"multiplies items in a list named list by 2\"\n",
    "    for i in list:\n",
    "        print(i * 2)\n",
    "        \n",
    "        \n"
   ]
  },
  {
   "cell_type": "code",
   "execution_count": 151,
   "id": "8b389302",
   "metadata": {},
   "outputs": [
    {
     "name": "stdout",
     "output_type": "stream",
     "text": [
      "2\n",
      "4\n",
      "6\n",
      "8\n"
     ]
    }
   ],
   "source": [
    "list = [1, 2, 3, 4]\n",
    "\n",
    "fun3()"
   ]
  },
  {
   "cell_type": "code",
   "execution_count": 141,
   "id": "0bca8873",
   "metadata": {},
   "outputs": [
    {
     "name": "stdout",
     "output_type": "stream",
     "text": [
      "Help on function fun3 in module __main__:\n",
      "\n",
      "fun3()\n",
      "    multiplies items in a list named list by 2\n",
      "\n"
     ]
    }
   ],
   "source": [
    "help(fun3)"
   ]
  },
  {
   "cell_type": "markdown",
   "id": "03862296",
   "metadata": {},
   "source": [
    "### Methods\n",
    "\n",
    "Methods are functions that belong to objects of the same type\n",
    "\n",
    "the available method will differ depending on it's type "
   ]
  },
  {
   "cell_type": "code",
   "execution_count": 129,
   "id": "e641984d",
   "metadata": {},
   "outputs": [],
   "source": [
    "name = 'Maximus'"
   ]
  },
  {
   "cell_type": "code",
   "execution_count": 130,
   "id": "3f071d13",
   "metadata": {},
   "outputs": [
    {
     "data": {
      "text/plain": [
       "'maximus'"
      ]
     },
     "execution_count": 130,
     "metadata": {},
     "output_type": "execute_result"
    }
   ],
   "source": [
    "name.lower()"
   ]
  },
  {
   "cell_type": "code",
   "execution_count": 132,
   "id": "b0b2a9b6",
   "metadata": {},
   "outputs": [
    {
     "data": {
      "text/plain": [
       "3"
      ]
     },
     "execution_count": 132,
     "metadata": {},
     "output_type": "execute_result"
    }
   ],
   "source": [
    "name.index('i')"
   ]
  },
  {
   "cell_type": "code",
   "execution_count": 142,
   "id": "76eaba52",
   "metadata": {},
   "outputs": [
    {
     "data": {
      "text/plain": [
       "['math', 'science', 'history', 'gym']"
      ]
     },
     "execution_count": 142,
     "metadata": {},
     "output_type": "execute_result"
    }
   ],
   "source": [
    "classes"
   ]
  },
  {
   "cell_type": "code",
   "execution_count": 143,
   "id": "83260898",
   "metadata": {},
   "outputs": [
    {
     "data": {
      "text/plain": [
       "3"
      ]
     },
     "execution_count": 143,
     "metadata": {},
     "output_type": "execute_result"
    }
   ],
   "source": [
    "classes.index('gym')"
   ]
  },
  {
   "cell_type": "code",
   "execution_count": 147,
   "id": "04919675",
   "metadata": {},
   "outputs": [],
   "source": [
    "#classes.lower()\n",
    "\n",
    "# no lower method with lists"
   ]
  },
  {
   "cell_type": "markdown",
   "id": "64dfa6b3",
   "metadata": {},
   "source": [
    "[back to top](#Contents)\n",
    "\n",
    "\n",
    "<a id=\"10\"></a> \n",
    "\n",
    "# 10. Packages\n",
    "\n",
    "Additional python code not available with base python\n",
    "\n",
    "packages come with a collection of modules\n",
    "\n",
    "Modules are single python scripts\n",
    "\n",
    "most data scientist work with packages primarily from NumPy, Pandas, Matplotlib. \n",
    "\n",
    "Packages are usually imported at the top of your script or notebook and named with an alias\n",
    "\n",
    "many packages come with your python installation\n",
    "\n",
    "you can download more packages via pip\n",
    "\n",
    "to use the package you need to call the NumPy functions \n"
   ]
  },
  {
   "cell_type": "code",
   "execution_count": 153,
   "id": "5d1169e9",
   "metadata": {},
   "outputs": [],
   "source": [
    "# example\n",
    "\n",
    "import numpy as np"
   ]
  },
  {
   "cell_type": "markdown",
   "id": "e97bb83d",
   "metadata": {},
   "source": [
    "[back to top](#Contents)\n",
    "\n",
    "\n",
    "<a id=\"11\"></a> \n",
    "\n",
    "# 11.  Rerturn Vs Print\n",
    "\n",
    "Return returns a number without printing it \n"
   ]
  },
  {
   "cell_type": "code",
   "execution_count": 154,
   "id": "e135c9ce",
   "metadata": {},
   "outputs": [],
   "source": [
    "def print_a_number(num):\n",
    "    print(num)\n",
    "    \n",
    "def return_a_number(num):\n",
    "    return(num)\n",
    "\n",
    "def add_three(num):\n",
    "    return num + 3"
   ]
  },
  {
   "cell_type": "code",
   "execution_count": 155,
   "id": "e2a47549",
   "metadata": {},
   "outputs": [
    {
     "name": "stdout",
     "output_type": "stream",
     "text": [
      "5\n"
     ]
    }
   ],
   "source": [
    "# prints the number 5 but has nothing stored\n",
    "func_1 = print_a_number(5)"
   ]
  },
  {
   "cell_type": "code",
   "execution_count": 156,
   "id": "4346f34f",
   "metadata": {},
   "outputs": [
    {
     "name": "stdout",
     "output_type": "stream",
     "text": [
      "None\n"
     ]
    }
   ],
   "source": [
    "# so if you print the function you get \"none\"\n",
    "print(func_1)"
   ]
  },
  {
   "cell_type": "code",
   "execution_count": 157,
   "id": "277adce5",
   "metadata": {},
   "outputs": [],
   "source": [
    "# doesn't print anything\n",
    "func_2 = return_a_number(5)"
   ]
  },
  {
   "cell_type": "code",
   "execution_count": 158,
   "id": "cd173c15",
   "metadata": {},
   "outputs": [
    {
     "name": "stdout",
     "output_type": "stream",
     "text": [
      "5\n"
     ]
    }
   ],
   "source": [
    "# Now prints 5 because the 5 value has been returned and stored to func_2\n",
    "print(func_2)"
   ]
  },
  {
   "cell_type": "code",
   "execution_count": 159,
   "id": "be9a66c8",
   "metadata": {},
   "outputs": [
    {
     "name": "stdout",
     "output_type": "stream",
     "text": [
      "5\n"
     ]
    },
    {
     "ename": "TypeError",
     "evalue": "unsupported operand type(s) for +: 'NoneType' and 'int'",
     "output_type": "error",
     "traceback": [
      "\u001b[0;31m---------------------------------------------------------------------------\u001b[0m",
      "\u001b[0;31mTypeError\u001b[0m                                 Traceback (most recent call last)",
      "Cell \u001b[0;32mIn[159], line 1\u001b[0m\n\u001b[0;32m----> 1\u001b[0m func_3 \u001b[38;5;241m=\u001b[39m \u001b[43madd_three\u001b[49m\u001b[43m(\u001b[49m\u001b[43mprint_a_number\u001b[49m\u001b[43m(\u001b[49m\u001b[38;5;241;43m5\u001b[39;49m\u001b[43m)\u001b[49m\u001b[43m)\u001b[49m\n",
      "Cell \u001b[0;32mIn[154], line 8\u001b[0m, in \u001b[0;36madd_three\u001b[0;34m(num)\u001b[0m\n\u001b[1;32m      7\u001b[0m \u001b[38;5;28;01mdef\u001b[39;00m \u001b[38;5;21madd_three\u001b[39m(num):\n\u001b[0;32m----> 8\u001b[0m     \u001b[38;5;28;01mreturn\u001b[39;00m \u001b[43mnum\u001b[49m\u001b[43m \u001b[49m\u001b[38;5;241;43m+\u001b[39;49m\u001b[43m \u001b[49m\u001b[38;5;241;43m3\u001b[39;49m\n",
      "\u001b[0;31mTypeError\u001b[0m: unsupported operand type(s) for +: 'NoneType' and 'int'"
     ]
    }
   ],
   "source": [
    "# doesn't work because print_a_number will print an number 5 but doesn't return a number 5, which gives us an error\n",
    "# giving you None + 3, which you cannot do\n",
    "func_3 = add_three(print_a_number(5))"
   ]
  },
  {
   "cell_type": "code",
   "execution_count": 163,
   "id": "14e4c9e3",
   "metadata": {},
   "outputs": [],
   "source": [
    "func_4 = add_three(return_a_number(5))"
   ]
  },
  {
   "cell_type": "code",
   "execution_count": 164,
   "id": "f0a8b1f2",
   "metadata": {},
   "outputs": [
    {
     "name": "stdout",
     "output_type": "stream",
     "text": [
      "8\n"
     ]
    }
   ],
   "source": [
    "print(func_4)"
   ]
  },
  {
   "cell_type": "code",
   "execution_count": null,
   "id": "d61563a5",
   "metadata": {},
   "outputs": [],
   "source": []
  },
  {
   "cell_type": "code",
   "execution_count": null,
   "id": "ff6e1ffa",
   "metadata": {},
   "outputs": [],
   "source": []
  }
 ],
 "metadata": {
  "kernelspec": {
   "display_name": "Python 3 (ipykernel)",
   "language": "python",
   "name": "python3"
  },
  "language_info": {
   "codemirror_mode": {
    "name": "ipython",
    "version": 3
   },
   "file_extension": ".py",
   "mimetype": "text/x-python",
   "name": "python",
   "nbconvert_exporter": "python",
   "pygments_lexer": "ipython3",
   "version": "3.9.16"
  }
 },
 "nbformat": 4,
 "nbformat_minor": 5
}
